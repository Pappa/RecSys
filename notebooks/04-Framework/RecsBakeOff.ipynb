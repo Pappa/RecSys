{
 "cells": [
  {
   "cell_type": "code",
   "execution_count": 49,
   "metadata": {},
   "outputs": [
    {
     "name": "stdout",
     "output_type": "stream",
     "text": [
      "The autoreload extension is already loaded. To reload it, use:\n",
      "  %reload_ext autoreload\n"
     ]
    }
   ],
   "source": [
    "%load_ext autoreload\n",
    "%autoreload 2"
   ]
  },
  {
   "cell_type": "markdown",
   "metadata": {},
   "source": [
    "# Recommender System Bake-Off\n",
    "\n",
    "This notebook demonstrates a comparison between different recommender algorithms:\n",
    "1. SVD (Singular Value Decomposition)\n",
    "2. Random Recommendations\n",
    "\n",
    "The algorithms are evaluated using various metrics including RMSE, MAE, Hit Rate, and more."
   ]
  },
  {
   "cell_type": "code",
   "execution_count": 50,
   "metadata": {},
   "outputs": [],
   "source": [
    "from recsys.MovieLens import MovieLens\n",
    "from surprise import SVD\n",
    "from surprise import NormalPredictor\n",
    "from recsys.Evaluator import Evaluator\n",
    "\n",
    "import random\n",
    "import numpy as np\n",
    "import pandas as pd"
   ]
  },
  {
   "cell_type": "markdown",
   "metadata": {},
   "source": [
    "### Set Random Seeds for Reproducibility"
   ]
  },
  {
   "cell_type": "code",
   "execution_count": 51,
   "metadata": {},
   "outputs": [],
   "source": [
    "np.random.seed(0)\n",
    "random.seed(0)"
   ]
  },
  {
   "cell_type": "markdown",
   "metadata": {},
   "source": [
    "### Load MovieLens Data and Initialize Evaluator"
   ]
  },
  {
   "cell_type": "code",
   "execution_count": 52,
   "metadata": {},
   "outputs": [],
   "source": [
    "(_, evaluation_dataset, rankings) = MovieLens.load()\n",
    "\n",
    "evaluator = Evaluator(evaluation_dataset, rankings)"
   ]
  },
  {
   "cell_type": "markdown",
   "metadata": {},
   "source": [
    "### Add algorithms to evaluate\n",
    "\n",
    "Let's compare SVD and a random predictor"
   ]
  },
  {
   "cell_type": "code",
   "execution_count": 53,
   "metadata": {},
   "outputs": [],
   "source": [
    "svd_model = SVD(random_state=10, verbose=False)\n",
    "evaluator.add_algorithm(svd_model, \"SVD\")\n",
    "\n",
    "random_model = NormalPredictor()\n",
    "evaluator.add_algorithm(random_model, \"Random\")"
   ]
  },
  {
   "cell_type": "markdown",
   "metadata": {},
   "source": [
    "### Run the Evaluation\n",
    "\n",
    "Evaluate the algorithms and produce the following results.\n",
    "\n",
    "| Metric    | Description | Interpretation |\n",
    "|-----------|-------------|----------------|\n",
    "| RMSE      | Root Mean Squared Error. | Lower values == better accuracy |\n",
    "| MAE       |  Mean Absolute Error. | Lower values == better accuracy |\n",
    "| HR        |   Hit Rate; how often we are able to recommend a left-out rating. | Higher == better |\n",
    "| cHR       |  Cumulative Hit Rate; hit rate, confined to ratings above a certain threshold. | Higher == better |\n",
    "| ARHR      | Average Reciprocal Hit Rank - Hit rate that takes the ranking into account. | Higher == better |\n",
    "| Coverage  | Ratio of users for whom recommendations above a certain threshold exist. | Higher == better |\n",
    "| Diversity | 1-S, where S is the average similarity score between every possible pair of recommendations for a given user. | Higher == more diverse |\n",
    "| Novelty   |  Average popularity rank of recommended items. | Higher == more novel |"
   ]
  },
  {
   "cell_type": "code",
   "execution_count": 54,
   "metadata": {},
   "outputs": [],
   "source": [
    "algorithms, metrics, values = evaluator.evaluate(top_n_metrics=True)"
   ]
  },
  {
   "cell_type": "markdown",
   "metadata": {},
   "source": [
    "### Evaluation results"
   ]
  },
  {
   "cell_type": "code",
   "execution_count": 56,
   "metadata": {},
   "outputs": [
    {
     "data": {
      "text/html": [
       "<div>\n",
       "<style scoped>\n",
       "    .dataframe tbody tr th:only-of-type {\n",
       "        vertical-align: middle;\n",
       "    }\n",
       "\n",
       "    .dataframe tbody tr th {\n",
       "        vertical-align: top;\n",
       "    }\n",
       "\n",
       "    .dataframe thead th {\n",
       "        text-align: right;\n",
       "    }\n",
       "</style>\n",
       "<table border=\"1\" class=\"dataframe\">\n",
       "  <thead>\n",
       "    <tr style=\"text-align: right;\">\n",
       "      <th></th>\n",
       "      <th>RMSE</th>\n",
       "      <th>MAE</th>\n",
       "      <th>HR</th>\n",
       "      <th>cHR</th>\n",
       "      <th>ARHR</th>\n",
       "      <th>Coverage</th>\n",
       "      <th>Diversity</th>\n",
       "      <th>Novelty</th>\n",
       "    </tr>\n",
       "    <tr>\n",
       "      <th>Algorithm</th>\n",
       "      <th></th>\n",
       "      <th></th>\n",
       "      <th></th>\n",
       "      <th></th>\n",
       "      <th></th>\n",
       "      <th></th>\n",
       "      <th></th>\n",
       "      <th></th>\n",
       "    </tr>\n",
       "  </thead>\n",
       "  <tbody>\n",
       "    <tr>\n",
       "      <th>SVD</th>\n",
       "      <td>0.903370</td>\n",
       "      <td>0.697788</td>\n",
       "      <td>0.031297</td>\n",
       "      <td>0.031297</td>\n",
       "      <td>0.011369</td>\n",
       "      <td>1.0</td>\n",
       "      <td>0.046182</td>\n",
       "      <td>499.795529</td>\n",
       "    </tr>\n",
       "    <tr>\n",
       "      <th>Random</th>\n",
       "      <td>1.438459</td>\n",
       "      <td>1.147809</td>\n",
       "      <td>0.008942</td>\n",
       "      <td>0.008942</td>\n",
       "      <td>0.001505</td>\n",
       "      <td>1.0</td>\n",
       "      <td>0.071946</td>\n",
       "      <td>557.836513</td>\n",
       "    </tr>\n",
       "  </tbody>\n",
       "</table>\n",
       "</div>"
      ],
      "text/plain": [
       "               RMSE       MAE        HR       cHR      ARHR  Coverage  \\\n",
       "Algorithm                                                               \n",
       "SVD        0.903370  0.697788  0.031297  0.031297  0.011369       1.0   \n",
       "Random     1.438459  1.147809  0.008942  0.008942  0.001505       1.0   \n",
       "\n",
       "           Diversity     Novelty  \n",
       "Algorithm                         \n",
       "SVD         0.046182  499.795529  \n",
       "Random      0.071946  557.836513  "
      ]
     },
     "execution_count": 56,
     "metadata": {},
     "output_type": "execute_result"
    }
   ],
   "source": [
    "results_df = pd.DataFrame(\n",
    "    values, columns=metrics, index=pd.Index(algorithms, name=\"Algorithm\")\n",
    ")\n",
    "results_df\n"
   ]
  }
 ],
 "metadata": {
  "kernelspec": {
   "display_name": "RecSys",
   "language": "python",
   "name": "python3"
  },
  "language_info": {
   "codemirror_mode": {
    "name": "ipython",
    "version": 3
   },
   "file_extension": ".py",
   "mimetype": "text/x-python",
   "name": "python",
   "nbconvert_exporter": "python",
   "pygments_lexer": "ipython3",
   "version": "3.12.11"
  }
 },
 "nbformat": 4,
 "nbformat_minor": 4
}
