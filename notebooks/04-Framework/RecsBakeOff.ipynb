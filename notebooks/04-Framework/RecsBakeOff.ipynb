{
 "cells": [
  {
   "cell_type": "markdown",
   "metadata": {},
   "source": [
    "# Recommender System Bake-Off\n",
    "\n",
    "This notebook demonstrates a comparison between different recommender algorithms:\n",
    "1. SVD (Singular Value Decomposition)\n",
    "2. Random Recommendations\n",
    "\n",
    "The algorithms are evaluated using various metrics including RMSE, MAE, Hit Rate, and more."
   ]
  },
  {
   "cell_type": "code",
   "execution_count": 1,
   "metadata": {},
   "outputs": [],
   "source": [
    "from recsys.MovieLens import MovieLens\n",
    "from surprise import SVD\n",
    "from surprise import NormalPredictor\n",
    "from recsys.Evaluator import Evaluator\n",
    "\n",
    "import random\n",
    "import numpy as np"
   ]
  },
  {
   "cell_type": "markdown",
   "metadata": {},
   "source": [
    "### Set Random Seeds for Reproducibility"
   ]
  },
  {
   "cell_type": "code",
   "execution_count": 6,
   "metadata": {},
   "outputs": [],
   "source": [
    "np.random.seed(0)\n",
    "random.seed(0)"
   ]
  },
  {
   "cell_type": "markdown",
   "metadata": {},
   "source": [
    "### Load MovieLens Data and Initialize Evaluator"
   ]
  },
  {
   "cell_type": "code",
   "execution_count": null,
   "metadata": {},
   "outputs": [
    {
     "name": "stdout",
     "output_type": "stream",
     "text": [
      "Estimating biases using als...\n",
      "Computing the cosine similarity matrix...\n",
      "Done computing similarity matrix.\n"
     ]
    }
   ],
   "source": [
    "(_, evaluation_dataset, rankings) = MovieLens.load(verbose=True)\n",
    "\n",
    "evaluator = Evaluator(evaluation_dataset, rankings)"
   ]
  },
  {
   "cell_type": "markdown",
   "metadata": {},
   "source": [
    "### Add algorithms to evaluate\n",
    "\n",
    "Let's compare SVD and a random predictor"
   ]
  },
  {
   "cell_type": "code",
   "execution_count": 4,
   "metadata": {},
   "outputs": [],
   "source": [
    "svd_model = SVD(random_state=10)\n",
    "evaluator.add_algorithm(svd_model, \"SVD\")\n",
    "\n",
    "random_model = NormalPredictor()\n",
    "evaluator.add_algorithm(random_model, \"Random\")"
   ]
  },
  {
   "cell_type": "markdown",
   "metadata": {},
   "source": [
    "### Run the Evaluation\n",
    "\n",
    "Evaluate the algorithms and produce the following results.\n",
    "\n",
    "| Metric    | Description | Interpretation |\n",
    "|-----------|-------------|----------------|\n",
    "| RMSE      | Root Mean Squared Error. | Lower values == better accuracy |\n",
    "| MAE       |  Mean Absolute Error. | Lower values == better accuracy |\n",
    "| HR        |   Hit Rate; how often we are able to recommend a left-out rating. | Higher == better |\n",
    "| cHR       |  Cumulative Hit Rate; hit rate, confined to ratings above a certain threshold. | Higher == better |\n",
    "| ARHR      | Average Reciprocal Hit Rank - Hit rate that takes the ranking into account. | Higher == better |\n",
    "| Coverage  | Ratio of users for whom recommendations above a certain threshold exist. | Higher == better |\n",
    "| Diversity | 1-S, where S is the average similarity score between every possible pair of recommendations for a given user. | Higher == more diverse |\n",
    "| Novelty   |  Average popularity rank of recommended items. | Higher == more novel |"
   ]
  },
  {
   "cell_type": "code",
   "execution_count": 5,
   "metadata": {},
   "outputs": [
    {
     "name": "stderr",
     "output_type": "stream",
     "text": [
      "INFO:AlgorithmEvaluator(SVD):Evaluating accuracy.\n"
     ]
    },
    {
     "name": "stdout",
     "output_type": "stream",
     "text": [
      "Evaluating  SVD ...\n"
     ]
    },
    {
     "name": "stderr",
     "output_type": "stream",
     "text": [
      "INFO:AlgorithmEvaluator(SVD):Evaluating top-N with leave-one-out validation.\n",
      "INFO:AlgorithmEvaluator(SVD):Computing hit-rate and rank metrics.\n",
      "INFO:AlgorithmEvaluator(SVD):Computing recommendations with full data set.\n",
      "INFO:AlgorithmEvaluator(SVD):Analyzing coverage, diversity, and novelty.\n"
     ]
    },
    {
     "name": "stdout",
     "output_type": "stream",
     "text": [
      "Computing the cosine similarity matrix...\n"
     ]
    },
    {
     "name": "stderr",
     "output_type": "stream",
     "text": [
      "INFO:AlgorithmEvaluator(SVD):Analysis complete.\n",
      "INFO:AlgorithmEvaluator(Random):Evaluating accuracy.\n",
      "INFO:AlgorithmEvaluator(Random):Evaluating top-N with leave-one-out validation.\n"
     ]
    },
    {
     "name": "stdout",
     "output_type": "stream",
     "text": [
      "Done computing similarity matrix.\n",
      "Evaluating  Random ...\n"
     ]
    },
    {
     "name": "stderr",
     "output_type": "stream",
     "text": [
      "INFO:AlgorithmEvaluator(Random):Computing hit-rate and rank metrics.\n",
      "INFO:AlgorithmEvaluator(Random):Computing recommendations with full data set.\n",
      "INFO:AlgorithmEvaluator(Random):Analyzing coverage, diversity, and novelty.\n",
      "INFO:AlgorithmEvaluator(Random):Analysis complete.\n"
     ]
    },
    {
     "name": "stdout",
     "output_type": "stream",
     "text": [
      "Computing the cosine similarity matrix...\n",
      "Done computing similarity matrix.\n",
      "\n",
      "\n",
      "Algorithm  RMSE       MAE        HR         cHR        ARHR       Coverage   Diversity  Novelty   \n",
      "SVD        0.9034     0.6978     0.0313     0.0313     0.0114     0.9553     0.0462     499.7955  \n",
      "Random     1.4385     1.1478     0.0089     0.0089     0.0015     1.0000     0.0719     557.8365  \n"
     ]
    }
   ],
   "source": [
    "evaluator.evaluate(True)"
   ]
  }
 ],
 "metadata": {
  "kernelspec": {
   "display_name": "RecSys",
   "language": "python",
   "name": "python3"
  },
  "language_info": {
   "codemirror_mode": {
    "name": "ipython",
    "version": 3
   },
   "file_extension": ".py",
   "mimetype": "text/x-python",
   "name": "python",
   "nbconvert_exporter": "python",
   "pygments_lexer": "ipython3",
   "version": "3.12.11"
  }
 },
 "nbformat": 4,
 "nbformat_minor": 4
}
