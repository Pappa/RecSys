{
 "cells": [
  {
   "cell_type": "code",
   "execution_count": 7,
   "metadata": {},
   "outputs": [
    {
     "name": "stdout",
     "output_type": "stream",
     "text": [
      "The autoreload extension is already loaded. To reload it, use:\n",
      "  %reload_ext autoreload\n"
     ]
    }
   ],
   "source": [
    "%load_ext autoreload\n",
    "%autoreload 2"
   ]
  },
  {
   "cell_type": "markdown",
   "metadata": {},
   "source": [
    "# Recommender System Bake-Off\n",
    "\n",
    "This notebook demonstrates a comparison between different recommender algorithms:\n",
    "1. SVD (Singular Value Decomposition)\n",
    "2. Random Recommendations\n",
    "\n",
    "The algorithms are evaluated using various metrics including RMSE, MAE, Hit Rate, and more."
   ]
  },
  {
   "cell_type": "code",
   "execution_count": 8,
   "metadata": {},
   "outputs": [],
   "source": [
    "from recsys.MovieLens import MovieLens\n",
    "from surprise import SVD\n",
    "from surprise import NormalPredictor\n",
    "from recsys.Evaluator import Evaluator\n",
    "\n",
    "import random\n",
    "import numpy as np"
   ]
  },
  {
   "cell_type": "markdown",
   "metadata": {},
   "source": [
    "### Set Random Seeds for Reproducibility"
   ]
  },
  {
   "cell_type": "code",
   "execution_count": 9,
   "metadata": {},
   "outputs": [],
   "source": [
    "np.random.seed(0)\n",
    "random.seed(0)"
   ]
  },
  {
   "cell_type": "markdown",
   "metadata": {},
   "source": [
    "### Load MovieLens Data and Initialize Evaluator"
   ]
  },
  {
   "cell_type": "code",
   "execution_count": 10,
   "metadata": {},
   "outputs": [],
   "source": [
    "lens, ratings_data, rankings = MovieLens.load()\n",
    "\n",
    "evaluator = Evaluator(ratings_data, rankings)"
   ]
  },
  {
   "cell_type": "markdown",
   "metadata": {},
   "source": [
    "### Add algorithms to evaluate\n",
    "\n",
    "Let's compare SVD and a random predictor"
   ]
  },
  {
   "cell_type": "code",
   "execution_count": 11,
   "metadata": {},
   "outputs": [],
   "source": [
    "svd_model = SVD(random_state=10, verbose=False)\n",
    "evaluator.add_algorithm(svd_model, \"SVD\")\n",
    "\n",
    "random_model = NormalPredictor()\n",
    "evaluator.add_algorithm(random_model, \"Random\")"
   ]
  },
  {
   "cell_type": "markdown",
   "metadata": {},
   "source": [
    "### Run the Evaluation\n",
    "\n",
    "Evaluate the algorithms and produce the following results.\n",
    "\n",
    "| Metric    | Description | Interpretation |\n",
    "|-----------|-------------|----------------|\n",
    "| RMSE      | Root Mean Squared Error. | Lower values == better accuracy |\n",
    "| MAE       |  Mean Absolute Error. | Lower values == better accuracy |\n",
    "| HR        |   Hit Rate; how often we are able to recommend a left-out rating. | Higher == better |\n",
    "| cHR       |  Cumulative Hit Rate; hit rate, confined to ratings above a certain threshold. | Higher == better |\n",
    "| ARHR      | Average Reciprocal Hit Rank - Hit rate that takes the ranking into account. | Higher == better |\n",
    "| Coverage  | Ratio of users for whom recommendations above a certain threshold exist. | Higher == better |\n",
    "| Diversity | 1-S, where S is the average similarity score between every possible pair of recommendations for a given user. | Higher == more diverse |\n",
    "| Novelty   |  Average popularity rank of recommended items. | Higher == more novel |"
   ]
  },
  {
   "cell_type": "markdown",
   "metadata": {},
   "source": [
    "### Evaluation results"
   ]
  },
  {
   "cell_type": "code",
   "execution_count": 14,
   "metadata": {},
   "outputs": [
    {
     "data": {
      "text/html": [
       "<div>\n",
       "<style scoped>\n",
       "    .dataframe tbody tr th:only-of-type {\n",
       "        vertical-align: middle;\n",
       "    }\n",
       "\n",
       "    .dataframe tbody tr th {\n",
       "        vertical-align: top;\n",
       "    }\n",
       "\n",
       "    .dataframe thead th {\n",
       "        text-align: right;\n",
       "    }\n",
       "</style>\n",
       "<table border=\"1\" class=\"dataframe\">\n",
       "  <thead>\n",
       "    <tr style=\"text-align: right;\">\n",
       "      <th></th>\n",
       "      <th>RMSE</th>\n",
       "      <th>MAE</th>\n",
       "      <th>HR</th>\n",
       "      <th>cHR</th>\n",
       "      <th>ARHR</th>\n",
       "      <th>Coverage</th>\n",
       "      <th>Diversity</th>\n",
       "      <th>Novelty</th>\n",
       "    </tr>\n",
       "    <tr>\n",
       "      <th>Algorithm</th>\n",
       "      <th></th>\n",
       "      <th></th>\n",
       "      <th></th>\n",
       "      <th></th>\n",
       "      <th></th>\n",
       "      <th></th>\n",
       "      <th></th>\n",
       "      <th></th>\n",
       "    </tr>\n",
       "  </thead>\n",
       "  <tbody>\n",
       "    <tr>\n",
       "      <th>SVD</th>\n",
       "      <td>0.903370</td>\n",
       "      <td>0.697788</td>\n",
       "      <td>0.031297</td>\n",
       "      <td>0.031297</td>\n",
       "      <td>0.011369</td>\n",
       "      <td>0.955291</td>\n",
       "      <td>0.046182</td>\n",
       "      <td>499.795529</td>\n",
       "    </tr>\n",
       "    <tr>\n",
       "      <th>Random</th>\n",
       "      <td>1.440484</td>\n",
       "      <td>1.147630</td>\n",
       "      <td>0.007452</td>\n",
       "      <td>0.007452</td>\n",
       "      <td>0.002277</td>\n",
       "      <td>1.000000</td>\n",
       "      <td>0.070388</td>\n",
       "      <td>554.918629</td>\n",
       "    </tr>\n",
       "  </tbody>\n",
       "</table>\n",
       "</div>"
      ],
      "text/plain": [
       "               RMSE       MAE        HR       cHR      ARHR  Coverage  \\\n",
       "Algorithm                                                               \n",
       "SVD        0.903370  0.697788  0.031297  0.031297  0.011369  0.955291   \n",
       "Random     1.440484  1.147630  0.007452  0.007452  0.002277  1.000000   \n",
       "\n",
       "           Diversity     Novelty  \n",
       "Algorithm                         \n",
       "SVD         0.046182  499.795529  \n",
       "Random      0.070388  554.918629  "
      ]
     },
     "execution_count": 14,
     "metadata": {},
     "output_type": "execute_result"
    }
   ],
   "source": [
    "results = evaluator.evaluate(top_n_metrics=True, coverage_threshold=4.0)\n",
    "\n",
    "results.to_df()"
   ]
  },
  {
   "cell_type": "code",
   "execution_count": 13,
   "metadata": {},
   "outputs": [
    {
     "name": "stdout",
     "output_type": "stream",
     "text": [
      "SVD\n",
      "  All About Eve (1950)\n",
      "  Star Wars: Episode V - The Empire Strikes Back (1980)\n",
      "  Fight Club (1999)\n",
      "  Cool Hand Luke (1967)\n",
      "  Goodfellas (1990)\n",
      "  Hachiko: A Dog's Story (a.k.a. Hachi: A Dog's Tale) (2009)\n",
      "  General, The (1926)\n",
      "  African Queen, The (1951)\n",
      "  Graduate, The (1967)\n",
      "  When We Were Kings (1996)\n",
      "Random\n",
      "  Dracula (Bram Stoker's Dracula) (1992)\n",
      "  Beavis and Butt-Head Do America (1996)\n",
      "  Blazing Saddles (1974)\n",
      "  Summer of Sam (1999)\n",
      "  Stir of Echoes (1999)\n",
      "  Fight Club (1999)\n",
      "  V for Vendetta (2006)\n",
      "  Coneheads (1993)\n",
      "  Mary Poppins (1964)\n",
      "  Cheech and Chong's Up in Smoke (1978)\n"
     ]
    }
   ],
   "source": [
    "samples = evaluator.sample_top_n_recs(uid=85)\n",
    "\n",
    "for algorithm, recs in samples.items():\n",
    "    print(f\"{algorithm}\")\n",
    "    movie_names = lens.get_movie_names(recs)\n",
    "    for movie_name in movie_names:\n",
    "        print(f\"  {movie_name}\")"
   ]
  }
 ],
 "metadata": {
  "kernelspec": {
   "display_name": ".venv",
   "language": "python",
   "name": "python3"
  },
  "language_info": {
   "codemirror_mode": {
    "name": "ipython",
    "version": 3
   },
   "file_extension": ".py",
   "mimetype": "text/x-python",
   "name": "python",
   "nbconvert_exporter": "python",
   "pygments_lexer": "ipython3",
   "version": "3.12.10"
  }
 },
 "nbformat": 4,
 "nbformat_minor": 4
}
