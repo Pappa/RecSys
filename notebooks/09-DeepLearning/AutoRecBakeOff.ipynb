{
  "cells": [
    {
      "cell_type": "markdown",
      "metadata": {},
      "source": [
        "# AutoRec Bake Off\n",
        "\n",
        "This notebook compares the performance of the AutoRec (Autoencoder for Collaborative Filtering) algorithm against random recommendations using the MovieLens dataset."
      ]
    },
    {
      "cell_type": "markdown",
      "metadata": {},
      "source": [
        "## Setup and Imports\n",
        "\n",
        "First, let's import the necessary libraries and set up our random seeds for reproducibility."
      ]
    },
    {
      "cell_type": "code",
      "execution_count": 1,
      "metadata": {},
      "outputs": [],
      "source": [
        "from recsys.MovieLens import MovieLens\n",
        "from recsys.algorithms.AutoRec import AutoRec\n",
        "from surprise import NormalPredictor\n",
        "from recsys.Evaluator import Evaluator\n",
        "\n",
        "import random\n",
        "import numpy as np\n",
        "\n",
        "np.random.seed(0)\n",
        "random.seed(0)"
      ]
    },
    {
      "cell_type": "markdown",
      "metadata": {},
      "source": [
        "## Load Data\n",
        "\n",
        "Load the MovieLens dataset and prepare it for evaluation."
      ]
    },
    {
      "cell_type": "code",
      "execution_count": 2,
      "metadata": {},
      "outputs": [],
      "source": [
        "# Load up common data set for the recommender algorithms\n",
        "(ml, evaluation_dataset, rankings) = MovieLens.load()"
      ]
    },
    {
      "cell_type": "markdown",
      "metadata": {},
      "source": [
        "## Initialize Evaluator\n",
        "\n",
        "Create an evaluator instance to compare different algorithms."
      ]
    },
    {
      "cell_type": "code",
      "execution_count": 3,
      "metadata": {},
      "outputs": [],
      "source": [
        "# Construct an Evaluator to, you know, evaluate them\n",
        "evaluator = Evaluator(evaluation_dataset, rankings)"
      ]
    },
    {
      "cell_type": "markdown",
      "metadata": {},
      "source": [
        "## Add Algorithms\n",
        "\n",
        "Add the algorithms we want to compare:\n",
        "1. AutoRec (Autoencoder for Collaborative Filtering)\n",
        "2. Random recommendations (baseline)"
      ]
    },
    {
      "cell_type": "code",
      "execution_count": 4,
      "metadata": {},
      "outputs": [],
      "source": [
        "# Autoencoder\n",
        "auto_rec = AutoRec()\n",
        "evaluator.add_algorithm(auto_rec, \"AutoRec\")\n",
        "\n",
        "# Just make random recommendations\n",
        "random_rec = NormalPredictor()\n",
        "evaluator.add_algorithm(random_rec, \"Random\")"
      ]
    },
    {
      "cell_type": "markdown",
      "metadata": {},
      "source": [
        "## Evaluate Algorithms\n",
        "\n",
        "Run the evaluation to compare the performance of all algorithms. We set `minimum_rating=0.0` to include all ratings in the evaluation."
      ]
    },
    {
      "cell_type": "code",
      "execution_count": 5,
      "metadata": {},
      "outputs": [],
      "source": [
        "evaluator.evaluate(True, minimum_rating=0.0)"
      ]
    },
    {
      "cell_type": "markdown",
      "metadata": {},
      "source": [
        "## Sample Recommendations\n",
        "\n",
        "Generate and display some sample recommendations using the evaluated algorithms."
      ]
    },
    {
      "cell_type": "code",
      "execution_count": 6,
      "metadata": {},
      "outputs": [],
      "source": [
        "evaluator.sample_top_n_recs(ml)"
      ]
    }
  ],
  "metadata": {
    "kernelspec": {
      "display_name": "Python 3",
      "language": "python",
      "name": "python3"
    },
    "language_info": {
      "codemirror_mode": {
        "name": "ipython",
        "version": 3
      },
      "file_extension": ".py",
      "mimetype": "text/x-python",
      "name": "python",
      "nbconvert_exporter": "python",
      "pygments_lexer": "ipython3",
      "version": "3.8.0"
    }
  },
  "nbformat": 4,
  "nbformat_minor": 4
}
