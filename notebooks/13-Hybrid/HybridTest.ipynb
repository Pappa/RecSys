{
 "cells": [
  {
   "cell_type": "markdown",
   "metadata": {},
   "source": [
    "# Hybrid Recommender System Test\n",
    "\n",
    "This notebook demonstrates how to combine different recommendation algorithms into a hybrid system. We'll combine a Restricted Boltzmann Machine (RBM) with a Content-based KNN algorithm and compare their individual and combined performance."
   ]
  },
  {
   "cell_type": "markdown",
   "metadata": {},
   "source": [
    "## Setup and Imports\n",
    "\n",
    "First, let's import the necessary libraries and set up our random seeds for reproducibility."
   ]
  },
  {
   "cell_type": "code",
   "execution_count": 1,
   "metadata": {},
   "outputs": [],
   "source": [
    "from recsys.MovieLens import MovieLens\n",
    "from recsys.algorithms.RBM import RBM\n",
    "from recsys.algorithms.ContentKNN import ContentKNN\n",
    "from HybridAlgorithm import HybridAlgorithm\n",
    "from recsys.Evaluator import Evaluator\n",
    "\n",
    "import random\n",
    "import numpy as np\n",
    "\n",
    "np.random.seed(0)\n",
    "random.seed(0)"
   ]
  },
  {
   "cell_type": "markdown",
   "metadata": {},
   "source": [
    "## Load Data\n",
    "\n",
    "Load the MovieLens dataset and prepare it for evaluation."
   ]
  },
  {
   "cell_type": "code",
   "execution_count": 2,
   "metadata": {},
   "outputs": [],
   "source": [
    "# Load up common data set for the recommender algorithms\n",
    "(ml, evaluationData, rankings) = MovieLens.load()"
   ]
  },
  {
   "cell_type": "markdown",
   "metadata": {},
   "source": [
    "## Initialize Evaluator\n",
    "\n",
    "Create an evaluator instance to measure the performance of our algorithms."
   ]
  },
  {
   "cell_type": "code",
   "execution_count": 3,
   "metadata": {},
   "outputs": [],
   "source": [
    "# Construct an Evaluator to, you know, evaluate them\n",
    "evaluator = Evaluator(evaluationData, rankings)"
   ]
  },
  {
   "cell_type": "markdown",
   "metadata": {},
   "source": [
    "## Create and Configure Algorithms\n",
    "\n",
    "We'll create three algorithms:\n",
    "1. A simple RBM with 40 epochs\n",
    "2. A Content-based KNN algorithm\n",
    "3. A hybrid algorithm that combines both with equal weights (0.5 each)"
   ]
  },
  {
   "cell_type": "code",
   "execution_count": 4,
   "metadata": {},
   "outputs": [],
   "source": [
    "# Simple RBM\n",
    "SimpleRBM = RBM(epochs=40)\n",
    "\n",
    "# Content-based KNN\n",
    "ContentKNN = ContentKNN()\n",
    "\n",
    "# Combine them with equal weights\n",
    "Hybrid = HybridAlgorithm([SimpleRBM, ContentKNN], [0.5, 0.5])"
   ]
  },
  {
   "cell_type": "markdown",
   "metadata": {},
   "source": [
    "## Add Algorithms to Evaluator\n",
    "\n",
    "Add all three algorithms to the evaluator for comparison."
   ]
  },
  {
   "cell_type": "code",
   "execution_count": 5,
   "metadata": {},
   "outputs": [],
   "source": [
    "evaluator.AddAlgorithm(SimpleRBM, \"RBM\")\n",
    "evaluator.AddAlgorithm(ContentKNN, \"ContentKNN\")\n",
    "evaluator.AddAlgorithm(Hybrid, \"Hybrid\")"
   ]
  },
  {
   "cell_type": "markdown",
   "metadata": {},
   "source": [
    "## Evaluate Algorithms\n",
    "\n",
    "Run the evaluation to compare the performance of all algorithms. This will help us understand how the hybrid approach performs compared to its individual components."
   ]
  },
  {
   "cell_type": "code",
   "execution_count": 6,
   "metadata": {},
   "outputs": [],
   "source": [
    "# Fight!\n",
    "evaluator.Evaluate(False)"
   ]
  },
  {
   "cell_type": "markdown",
   "metadata": {},
   "source": [
    "## Sample Recommendations\n",
    "\n",
    "Generate and display some sample recommendations using the evaluated algorithms. This will help us qualitatively assess the differences between the individual algorithms and the hybrid approach."
   ]
  },
  {
   "cell_type": "code",
   "execution_count": 7,
   "metadata": {},
   "outputs": [],
   "source": [
    "evaluator.SampleTopNRecs(ml)"
   ]
  }
 ],
 "metadata": {
  "kernelspec": {
   "display_name": "Python 3",
   "language": "python",
   "name": "python3"
  },
  "language_info": {
   "codemirror_mode": {
    "name": "ipython",
    "version": 3
   },
   "file_extension": ".py",
   "mimetype": "text/x-python",
   "name": "python",
   "nbconvert_exporter": "python",
   "pygments_lexer": "ipython3",
   "version": "3.8.0"
  }
 },
 "nbformat": 4,
 "nbformat_minor": 4
} 