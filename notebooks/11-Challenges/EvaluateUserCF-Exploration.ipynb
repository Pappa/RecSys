{
  "cells": [
    {
      "cell_type": "markdown",
      "metadata": {},
      "source": [
        "# User-Based Collaborative Filtering with Exploration\n",
        "\n",
        "This notebook demonstrates how to evaluate a user-based collaborative filtering system that incorporates exploration of new movies. The system uses cosine similarity to find similar users and makes recommendations based on their ratings, while occasionally suggesting new movies to promote exploration."
      ]
    },
    {
      "cell_type": "markdown",
      "metadata": {},
      "source": [
        "### Import Required Libraries"
      ]
    },
    {
      "cell_type": "code",
      "execution_count": 1,
      "metadata": {},
      "outputs": [],
      "source": [
        "from recsys.MovieLens import MovieLens\n",
        "from surprise import KNNBasic\n",
        "import heapq\n",
        "import random\n",
        "from collections import defaultdict\n",
        "from operator import itemgetter\n",
        "from recsys.RecommenderMetrics import RecommenderMetrics\n",
        "from recsys.EvaluationDataset import EvaluationDataset"
      ]
    },
    {
      "cell_type": "markdown",
      "metadata": {},
      "source": [
        "### Load Data"
      ]
    },
    {
      "cell_type": "code",
      "execution_count": null,
      "metadata": {},
      "outputs": [],
      "source": [
        "\n",
        "lens, ratings_data, rankings = MovieLens.load()"
      ]
    },
    {
      "cell_type": "markdown",
      "metadata": {},
      "source": [
        "### Prepare Evaluation Data\n",
        "\n",
        "Set up the evaluation data using leave-one-out cross-validation (loo_iterator) to test our recommender system."
      ]
    },
    {
      "cell_type": "code",
      "execution_count": 2,
      "metadata": {},
      "outputs": [],
      "source": [
        "evaluation_dataset = EvaluationDataset(ratings_data, rankings)\n",
        "\n",
        "# Train on leave-One-Out train set\n",
        "loo_trainset = evaluation_dataset.loo_trainset\n",
        "loo_testset = evaluation_dataset.loo_testset"
      ]
    },
    {
      "cell_type": "markdown",
      "metadata": {},
      "source": [
        "### Train the Model\n",
        "\n",
        "Train a KNN-based model using cosine similarity for user-based collaborative filtering."
      ]
    },
    {
      "cell_type": "code",
      "execution_count": 3,
      "metadata": {},
      "outputs": [],
      "source": [
        "sim_options = {\n",
        "    'name': 'cosine',\n",
        "    'user_based': True\n",
        "}\n",
        "\n",
        "model = KNNBasic(sim_options=sim_options)\n",
        "model.fit(loo_trainset)\n",
        "similarity_matrix = model.compute_similarities()"
      ]
    },
    {
      "cell_type": "markdown",
      "metadata": {},
      "source": [
        "### Get New Movies for Exploration\n",
        "\n",
        "Retrieve a list of new movies that we can use to promote exploration in our recommendations."
      ]
    },
    {
      "cell_type": "code",
      "execution_count": 4,
      "metadata": {},
      "outputs": [],
      "source": [
        "# Get new movies that need data\n",
        "new_movies = lens.get_new_movies()\n",
        "exploration_slot = 9  # Position in recommendations where we'll insert a new movie"
      ]
    },
    {
      "cell_type": "markdown",
      "metadata": {},
      "source": [
        "### Generate Recommendations with Exploration\n",
        "\n",
        "For each user, we'll:\n",
        "1. Find their k most similar users\n",
        "2. Get movies rated by similar users\n",
        "3. Weight the ratings by user similarity\n",
        "4. Insert a new movie at the exploration slot\n",
        "5. Generate top-N recommendations"
      ]
    },
    {
      "cell_type": "code",
      "execution_count": 5,
      "metadata": {},
      "outputs": [],
      "source": [
        "# Build up dict to lists of (int(movie_id), predictedrating) pairs\n",
        "top_n = defaultdict(list)\n",
        "k = 10  # Number of similar users to consider\n",
        "\n",
        "for uiid in range(loo_trainset.n_users):\n",
        "    # Get top N similar users to this one\n",
        "    user_similarities = similarity_matrix[uiid]\n",
        "    \n",
        "    similar_users = []\n",
        "    for inner_id, score in enumerate(user_similarities):\n",
        "        if (inner_id != uiid):\n",
        "            similar_users.append((inner_id, score))\n",
        "    \n",
        "    k_neighbours = heapq.nlargest(k, similar_users, key=lambda t: t[1])\n",
        "    \n",
        "    # Get the stuff they rated, and add up ratings for each item, weighted by user similarity\n",
        "    candidates = defaultdict(float)\n",
        "    for similar_user in k_neighbours:\n",
        "        inner_id = similar_user[0]\n",
        "        user_similarity_score = similar_user[1]\n",
        "        users_own_ratings = loo_trainset.ur[inner_id]\n",
        "        for rating in users_own_ratings:\n",
        "            candidates[rating[0]] += (rating[1] / 5.0) * user_similarity_score\n",
        "    \n",
        "    # Build a dictionary of stuff the user has already seen\n",
        "    watched = {}\n",
        "    for item_id, rating in loo_trainset.ur[uiid]:\n",
        "        watched[item_id] = 1\n",
        "    \n",
        "    # Get top-rated items from similar users:\n",
        "    pos = 0\n",
        "    for item_id, rating_sum in sorted(candidates.items(), key=itemgetter(1), reverse=True):\n",
        "        if not item_id in watched:\n",
        "            movie_id = 0\n",
        "            if (pos == exploration_slot):\n",
        "                movie_id = random.choice(new_movies)\n",
        "            else:\n",
        "                movie_id = loo_trainset.to_raw_iid(item_id)\n",
        "            top_n[int(loo_trainset.to_raw_uid(uiid))].append((int(movie_id), 0.0))\n",
        "            pos += 1\n",
        "            if (pos > 40):\n",
        "                break"
      ]
    },
    {
      "cell_type": "markdown",
      "metadata": {},
      "source": [
        "### Evaluate Performance\n",
        "\n",
        "Measure the hit rate of our recommendations to see how well the system performs with the exploration component."
      ]
    },
    {
      "cell_type": "code",
      "execution_count": 6,
      "metadata": {},
      "outputs": [],
      "source": [
        "hit_rate, cumulative_hit_rate, average_reciprocal_hit_rank, rating_hit_rate = RecommenderMetrics.hit_rate_metrics(top_n, loo_testset, 4.0)\n",
        " \n",
        "(\n",
        "    f\"Hit Rate: {hit_rate}\\n\"\n",
        "    f\"Cumulative Hit Rate: {cumulative_hit_rate}\\n\"\n",
        "    f\"Average Reciprocal Hit Rank: {average_reciprocal_hit_rank}\"\n",
        "    f\"Rating Hit Rate: {rating_hit_rate}\"\n",
        ")\n"
      ]
    }
  ],
  "metadata": {
    "kernelspec": {
      "display_name": "Python 3",
      "language": "python",
      "name": "python3"
    },
    "language_info": {
      "codemirror_mode": {
        "name": "ipython",
        "version": 3
      },
      "file_extension": ".py",
      "mimetype": "text/x-python",
      "name": "python",
      "nbconvert_exporter": "python",
      "pygments_lexer": "ipython3",
      "version": "3.8.0"
    }
  },
  "nbformat": 4,
  "nbformat_minor": 4
}
