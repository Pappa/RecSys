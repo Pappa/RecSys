{
  "cells": [
    {
      "cell_type": "markdown",
      "metadata": {},
      "source": [
        "# User-Based Collaborative Filtering Analysis\n",
        "\n",
        "This notebook demonstrates how to evaluate a user-based collaborative filtering system using leave-one-out cross-validation. The system uses cosine similarity to find similar users and makes recommendations based on their ratings, helping us understand how well the algorithm performs for different types of users."
      ]
    },
    {
      "cell_type": "markdown",
      "metadata": {},
      "source": [
        "### Setup and Imports\n",
        "\n",
        "First, let's import the necessary libraries and load our data."
      ]
    },
    {
      "cell_type": "code",
      "execution_count": 1,
      "metadata": {},
      "outputs": [],
      "source": [
        "from recsys.MovieLens import MovieLens\n",
        "from surprise import KNNBasic\n",
        "import heapq\n",
        "from collections import defaultdict\n",
        "from operator import itemgetter\n",
        "from recsys.RecommenderMetrics import RecommenderMetrics\n",
        "from recsys.EvaluationDataset import EvaluationDataset\n",
        "\n",
        "ml, data, rankings = MovieLens.load()"
      ]
    },
    {
      "cell_type": "markdown",
      "metadata": {},
      "source": [
        "### Prepare Evaluation Data\n",
        "\n",
        "Set up the evaluation data using leave-one-out cross-validation (loo_iterator) to test our recommender system. This approach helps us understand how well the system performs for individual users."
      ]
    },
    {
      "cell_type": "code",
      "execution_count": 2,
      "metadata": {},
      "outputs": [],
      "source": [
        "evalData = EvaluationDataset(data, rankings)\n",
        "\n",
        "# Train on leave-One-Out train set\n",
        "train_set = evalData.loo_train_set\n",
        "loo_test_set = evalData.loo_test_set"
      ]
    },
    {
      "cell_type": "markdown",
      "metadata": {},
      "source": [
        "### Train the Model\n",
        "\n",
        "Train a KNN-based model using cosine similarity for user-based collaborative filtering. This will help us identify similar users and their preferences."
      ]
    },
    {
      "cell_type": "code",
      "execution_count": 3,
      "metadata": {},
      "outputs": [],
      "source": [
        "sim_options = {\n",
        "    'name': 'cosine',\n",
        "    'user_based': True\n",
        "}\n",
        "\n",
        "model = KNNBasic(sim_options=sim_options)\n",
        "model.fit(train_set)\n",
        "similarity_matrix = model.compute_similarities()"
      ]
    },
    {
      "cell_type": "markdown",
      "metadata": {},
      "source": [
        "### Generate Recommendations\n",
        "\n",
        "For each user, we'll:\n",
        "1. Find their k most similar users\n",
        "2. Get movies rated by similar users\n",
        "3. Weight the ratings by user similarity\n",
        "4. Generate top-N recommendations\n",
        "\n",
        "This process helps us understand how well the system can predict user preferences based on similar users' behavior."
      ]
    },
    {
      "cell_type": "code",
      "execution_count": 4,
      "metadata": {},
      "outputs": [],
      "source": [
        "# Build up dict to lists of (int(movie_id), predictedrating) pairs\n",
        "top_n = defaultdict(list)\n",
        "k = 10  # Number of similar users to consider\n",
        "\n",
        "for uiid in range(train_set.n_users):\n",
        "    # Get top N similar users to this one\n",
        "    similarityRow = similarity_matrix[uiid]\n",
        "    \n",
        "    similar_users = []\n",
        "    for inner_id, score in enumerate(similarityRow):\n",
        "        if (inner_id != uiid):\n",
        "            similar_users.append((inner_id, score))\n",
        "    \n",
        "    k_neighbours = heapq.nlargest(k, similar_users, key=lambda t: t[1])\n",
        "    \n",
        "    # Get the stuff they rated, and add up ratings for each item, weighted by user similarity\n",
        "    candidates = defaultdict(float)\n",
        "    for similar_user in k_neighbours:\n",
        "        inner_id = similar_user[0]\n",
        "        user_similarity_score = similar_user[1]\n",
        "        users_own_ratings = train_set.ur[inner_id]\n",
        "        for rating in users_own_ratings:\n",
        "            candidates[rating[0]] += (rating[1] / 5.0) * user_similarity_score\n",
        "    \n",
        "    # Build a dictionary of stuff the user has already seen\n",
        "    watched = {}\n",
        "    for item_id, rating in train_set.ur[uiid]:\n",
        "        watched[item_id] = 1\n",
        "    \n",
        "    # Get top-rated items from similar users:\n",
        "    pos = 0\n",
        "    for item_id, rating_sum in sorted(candidates.items(), key=itemgetter(1), reverse=True):\n",
        "        if not item_id in watched:\n",
        "            movie_id = train_set.to_raw_iid(item_id)\n",
        "            top_n[int(train_set.to_raw_uid(uiid))].append((int(movie_id), 0.0))\n",
        "            pos += 1\n",
        "            if (pos > 40):\n",
        "                break"
      ]
    },
    {
      "cell_type": "markdown",
      "metadata": {},
      "source": [
        "### Evaluate Performance\n",
        "\n",
        "Measure the hit rate of our recommendations to see how well the system performs. This metric tells us how often our recommendations match the user's actual preferences."
      ]
    },
    {
      "cell_type": "code",
      "execution_count": 5,
      "metadata": {},
      "outputs": [],
      "source": [
        "# Measure hit rate\n",
        "print(\"HR\", RecommenderMetrics.hit_rate(top_n, loo_test_set))"
      ]
    }
  ],
  "metadata": {
    "kernelspec": {
      "display_name": "Python 3",
      "language": "python",
      "name": "python3"
    },
    "language_info": {
      "codemirror_mode": {
        "name": "ipython",
        "version": 3
      },
      "file_extension": ".py",
      "mimetype": "text/x-python",
      "name": "python",
      "nbconvert_exporter": "python",
      "pygments_lexer": "ipython3",
      "version": "3.8.0"
    }
  },
  "nbformat": 4,
  "nbformat_minor": 4
}
