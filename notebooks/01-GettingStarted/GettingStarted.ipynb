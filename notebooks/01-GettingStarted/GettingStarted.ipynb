{
  "cells": [
    {
      "cell_type": "markdown",
      "metadata": {},
      "source": [
        "# Getting Started"
      ]
    },
    {
      "cell_type": "code",
      "execution_count": 1,
      "metadata": {},
      "outputs": [],
      "source": [
        "%reload_ext autoreload\n",
        "%autoreload 2\n",
        "from recsys.MovieLens import MovieLens\n",
        "from surprise import SVD"
      ]
    },
    {
      "cell_type": "code",
      "execution_count": 2,
      "metadata": {},
      "outputs": [],
      "source": [
        "def create_anti_testset(user_id, trainset):\n",
        "    fill = trainset.global_mean\n",
        "    anti_testset = []\n",
        "    inner_uid = trainset.to_inner_uid(str(user_id))\n",
        "    \n",
        "    user_items = set([j for (j, _) in trainset.ur[inner_uid]])\n",
        "    anti_testset += [(trainset.to_raw_uid(inner_uid), trainset.to_raw_iid(i), fill) for\n",
        "                             i in trainset.all_items() if\n",
        "                             i not in user_items]\n",
        "    return anti_testset"
      ]
    },
    {
      "cell_type": "code",
      "execution_count": null,
      "metadata": {},
      "outputs": [],
      "source": [
        "# Pick an arbitrary test subject\n",
        "test_uid = 85\n",
        "\n",
        "lens, ratings_data, rankings = MovieLens.load()\n",
        "\n",
        "user_ratings = lens.get_user_ratings(test_uid)\n",
        "loved = []\n",
        "hated = []\n",
        "for ratings in user_ratings:\n",
        "    if (float(ratings[1]) > 4.0):\n",
        "        loved.append(ratings)\n",
        "    if (float(ratings[1]) < 3.0):\n",
        "        hated.append(ratings)\n",
        "\n",
        "loved.sort(key=lambda x: x[1], reverse=True)\n",
        "hated.sort(key=lambda x: x[1])\n",
        "\n",
        "print(f\"User {test_uid} loved these movies:\")\n",
        "for ratings in loved[:10]:\n",
        "    print(lens.get_movie_name(ratings[0]), ratings[1])\n",
        "print(\"\\n...and hated these movies:\")\n",
        "for ratings in hated[:10]:\n",
        "    print(lens.get_movie_name(ratings[0]), ratings[1])"
      ]
    },
    {
      "cell_type": "code",
      "execution_count": null,
      "metadata": {},
      "outputs": [],
      "source": [
        "# Building recommendation model\n",
        "trainset = ratings_data.build_full_trainset()\n",
        "\n",
        "model = SVD(verbose=False)\n",
        "model.fit(trainset)"
      ]
    },
    {
      "cell_type": "code",
      "execution_count": null,
      "metadata": {},
      "outputs": [],
      "source": [
        "# Generate recommendations\n",
        "testset = create_anti_testset(test_uid, trainset)\n",
        "predictions = model.test(testset)\n",
        "\n",
        "recommendations = []\n",
        "\n",
        "ratings_data = lens.load_movielens_data()\n",
        "\n",
        "print (\"We recommend:\\n\")\n",
        "for user_id, movie_id, true_rating, predicted_rating, _ in predictions:\n",
        "    recommendations.append((int(movie_id), predicted_rating))\n",
        "\n",
        "recommendations.sort(key=lambda x: x[1], reverse=True)\n",
        "\n",
        "for ratings in recommendations[:10]:\n",
        "    print(lens.get_movie_name(ratings[0]), f\"{ratings[1]:.1f}\")"
      ]
    }
  ],
  "metadata": {
    "kernelspec": {
      "display_name": ".venv",
      "language": "python",
      "name": "python3"
    },
    "language_info": {
      "codemirror_mode": {
        "name": "ipython",
        "version": 3
      },
      "file_extension": ".py",
      "mimetype": "text/x-python",
      "name": "python",
      "nbconvert_exporter": "python",
      "pygments_lexer": "ipython3",
      "version": "3.12.10"
    }
  },
  "nbformat": 4,
  "nbformat_minor": 2
}
