{
  "cells": [
    {
      "cell_type": "markdown",
      "metadata": {},
      "source": [
        "# Getting Started"
      ]
    },
    {
      "cell_type": "code",
      "execution_count": 1,
      "metadata": {},
      "outputs": [],
      "source": [
        "%reload_ext autoreload\n",
        "%autoreload 2\n",
        "from recsys.MovieLens import MovieLens\n",
        "from surprise import SVD"
      ]
    },
    {
      "cell_type": "code",
      "execution_count": 2,
      "metadata": {},
      "outputs": [],
      "source": [
        "def create_anti_test_set(user_id, trainset):\n",
        "    fill = trainset.global_mean\n",
        "    anti_testset = []\n",
        "    inner_uid = trainset.to_inner_uid(str(user_id))\n",
        "    \n",
        "    user_items = set([j for (j, _) in trainset.ur[inner_uid]])\n",
        "    anti_testset += [(trainset.to_raw_uid(inner_uid), trainset.to_raw_iid(i), fill) for\n",
        "                             i in trainset.all_items() if\n",
        "                             i not in user_items]\n",
        "    return anti_testset"
      ]
    },
    {
      "cell_type": "code",
      "execution_count": null,
      "metadata": {},
      "outputs": [],
      "source": [
        "# Pick an arbitrary test subject\n",
        "test_subject = 85\n",
        "\n",
        "lens, data, _ = MovieLens.load()\n",
        "\n",
        "user_ratings = lens.get_user_ratings(test_subject)\n",
        "loved = []\n",
        "hated = []\n",
        "for ratings in user_ratings:\n",
        "    if (float(ratings[1]) > 4.0):\n",
        "        loved.append(ratings)\n",
        "    if (float(ratings[1]) < 3.0):\n",
        "        hated.append(ratings)\n",
        "\n",
        "print(\"\\nUser \", test_subject, \" loved these movies:\")\n",
        "for ratings in loved:\n",
        "    print(lens.get_movie_name(ratings[0]))\n",
        "print(\"\\n...and didn't like these movies:\")\n",
        "for ratings in hated:\n",
        "    print(lens.get_movie_name(ratings[0]))"
      ]
    },
    {
      "cell_type": "code",
      "execution_count": null,
      "metadata": {},
      "outputs": [],
      "source": [
        "# Building recommendation model\n",
        "train_set = data.build_full_trainset()\n",
        "\n",
        "algo = SVD()\n",
        "algo.fit(train_set)"
      ]
    },
    {
      "cell_type": "code",
      "execution_count": null,
      "metadata": {},
      "outputs": [],
      "source": [
        "# Computing recommendations\n",
        "test_set = create_anti_test_set(test_subject, train_set)\n",
        "predictions = algo.test(test_set)\n",
        "\n",
        "recommendations = []\n",
        "\n",
        "print(\"Loading movie ratings...\")\n",
        "data = lens.load_movielens_data()\n",
        "\n",
        "print (\"\\nWe recommend:\")\n",
        "for user_id, movie_id, true_rating, predicted_rating, _ in predictions:\n",
        "    intMovieID = int(movie_id)\n",
        "    recommendations.append((intMovieID, predicted_rating))\n",
        "\n",
        "recommendations.sort(key=lambda x: x[1], reverse=True)\n",
        "\n",
        "for ratings in recommendations[:10]:\n",
        "    print(lens.get_movie_name(ratings[0]))"
      ]
    }
  ],
  "metadata": {
    "kernelspec": {
      "display_name": "RecSys",
      "language": "python",
      "name": "python3"
    },
    "language_info": {
      "codemirror_mode": {
        "name": "ipython",
        "version": 3
      },
      "file_extension": ".py",
      "mimetype": "text/x-python",
      "name": "python",
      "nbconvert_exporter": "python",
      "pygments_lexer": "ipython3",
      "version": "3.12.11"
    }
  },
  "nbformat": 4,
  "nbformat_minor": 2
}
