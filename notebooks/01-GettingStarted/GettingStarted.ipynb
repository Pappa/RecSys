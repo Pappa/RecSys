{
  "cells": [
    {
      "cell_type": "markdown",
      "metadata": {},
      "source": [
        "# Getting Started"
      ]
    },
    {
      "cell_type": "code",
      "execution_count": 1,
      "metadata": {},
      "outputs": [],
      "source": [
        "%reload_ext autoreload\n",
        "%autoreload 2\n",
        "from recsys.MovieLens import MovieLens\n",
        "from surprise import SVD"
      ]
    },
    {
      "cell_type": "code",
      "execution_count": 2,
      "metadata": {},
      "outputs": [],
      "source": [
        "def create_anti_test_set(user_id, trainset):\n",
        "    fill = trainset.global_mean\n",
        "    anti_testset = []\n",
        "    inner_uid = trainset.to_inner_uid(str(user_id))\n",
        "    \n",
        "    user_items = set([j for (j, _) in trainset.ur[inner_uid]])\n",
        "    anti_testset += [(trainset.to_raw_uid(inner_uid), trainset.to_raw_iid(i), fill) for\n",
        "                             i in trainset.all_items() if\n",
        "                             i not in user_items]\n",
        "    return anti_testset"
      ]
    },
    {
      "cell_type": "code",
      "execution_count": 3,
      "metadata": {},
      "outputs": [
        {
          "name": "stdout",
          "output_type": "stream",
          "text": [
            "User 85 loved these movies:\n",
            "Jumanji (1995) 5.0\n",
            "GoldenEye (1995) 5.0\n",
            "Braveheart (1995) 5.0\n",
            "Jerky Boys, The (1995) 5.0\n",
            "LÃ©on: The Professional (a.k.a. The Professional) (LÃ©on) (1994) 5.0\n",
            "Pulp Fiction (1994) 5.0\n",
            "Stargate (1994) 5.0\n",
            "Shawshank Redemption, The (1994) 5.0\n",
            "Star Trek: Generations (1994) 5.0\n",
            "Clear and Present Danger (1994) 5.0\n",
            "\n",
            "...and hated these movies:\n",
            "Postman, The (Postino, Il) (1994) 1.0\n",
            "Casper (1995) 1.0\n",
            "Mighty Morphin Power Rangers: The Movie (1995) 1.0\n",
            "Prophecy, The (1995) 1.0\n",
            "Heavenly Creatures (1994) 1.0\n",
            "Little Women (1994) 1.0\n",
            "Nell (1994) 1.0\n",
            "Poison Ivy II (1996) 1.0\n",
            "Tank Girl (1995) 1.0\n",
            "While You Were Sleeping (1995) 1.0\n"
          ]
        }
      ],
      "source": [
        "# Pick an arbitrary test subject\n",
        "test_subject = 85\n",
        "\n",
        "lens, data, _ = MovieLens.load()\n",
        "\n",
        "user_ratings = lens.get_user_ratings(test_subject)\n",
        "loved = []\n",
        "hated = []\n",
        "for ratings in user_ratings:\n",
        "    if (float(ratings[1]) > 4.0):\n",
        "        loved.append(ratings)\n",
        "    if (float(ratings[1]) < 3.0):\n",
        "        hated.append(ratings)\n",
        "\n",
        "loved.sort(key=lambda x: x[1], reverse=True)\n",
        "hated.sort(key=lambda x: x[1])\n",
        "\n",
        "print(f\"User {test_subject} loved these movies:\")\n",
        "for ratings in loved[:10]:\n",
        "    print(lens.get_movie_name(ratings[0]), ratings[1])\n",
        "print(\"\\n...and hated these movies:\")\n",
        "for ratings in hated[:10]:\n",
        "    print(lens.get_movie_name(ratings[0]), ratings[1])"
      ]
    },
    {
      "cell_type": "code",
      "execution_count": 4,
      "metadata": {},
      "outputs": [
        {
          "data": {
            "text/plain": [
              "<surprise.prediction_algorithms.matrix_factorization.SVD at 0x7911e2150b00>"
            ]
          },
          "execution_count": 4,
          "metadata": {},
          "output_type": "execute_result"
        }
      ],
      "source": [
        "# Building recommendation model\n",
        "train_set = data.build_full_trainset()\n",
        "\n",
        "algo = SVD(verbose=False)\n",
        "algo.fit(train_set)"
      ]
    },
    {
      "cell_type": "code",
      "execution_count": 5,
      "metadata": {},
      "outputs": [
        {
          "name": "stdout",
          "output_type": "stream",
          "text": [
            "We recommend:\n",
            "\n",
            "Ran (1985) 4.6\n",
            "Godfather: Part II, The (1974) 4.6\n",
            "Amadeus (1984) 4.5\n",
            "Godfather, The (1972) 4.5\n",
            "Star Wars: Episode VI - Return of the Jedi (1983) 4.4\n",
            "Cinema Paradiso (Nuovo cinema Paradiso) (1989) 4.4\n",
            "Matrix, The (1999) 4.3\n",
            "Psycho (1960) 4.3\n",
            "Let the Right One In (LÃ¥t den rÃ¤tte komma in) (2008) 4.3\n",
            "Goodfellas (1990) 4.3\n"
          ]
        }
      ],
      "source": [
        "# Generate recommendations\n",
        "test_set = create_anti_test_set(test_subject, train_set)\n",
        "predictions = algo.test(test_set)\n",
        "\n",
        "recommendations = []\n",
        "\n",
        "data = lens.load_movielens_data()\n",
        "\n",
        "print (\"We recommend:\\n\")\n",
        "for user_id, movie_id, true_rating, predicted_rating, _ in predictions:\n",
        "    recommendations.append((int(movie_id), predicted_rating))\n",
        "\n",
        "recommendations.sort(key=lambda x: x[1], reverse=True)\n",
        "\n",
        "for ratings in recommendations[:10]:\n",
        "    print(lens.get_movie_name(ratings[0]), f\"{ratings[1]:.1f}\")"
      ]
    }
  ],
  "metadata": {
    "kernelspec": {
      "display_name": ".venv",
      "language": "python",
      "name": "python3"
    },
    "language_info": {
      "codemirror_mode": {
        "name": "ipython",
        "version": 3
      },
      "file_extension": ".py",
      "mimetype": "text/x-python",
      "name": "python",
      "nbconvert_exporter": "python",
      "pygments_lexer": "ipython3",
      "version": "3.12.10"
    }
  },
  "nbformat": 4,
  "nbformat_minor": 2
}
