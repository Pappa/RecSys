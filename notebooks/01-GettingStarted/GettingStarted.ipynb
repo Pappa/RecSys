{
  "cells": [
    {
      "cell_type": "markdown",
      "metadata": {},
      "source": [
        "# Getting Started"
      ]
    },
    {
      "cell_type": "code",
      "execution_count": 1,
      "metadata": {},
      "outputs": [],
      "source": [
        "%reload_ext autoreload\n",
        "%autoreload 2\n",
        "from recsys.MovieLens import MovieLens\n",
        "from surprise import SVD"
      ]
    },
    {
      "cell_type": "code",
      "execution_count": 2,
      "metadata": {},
      "outputs": [],
      "source": [
        "def BuildAntiTestSetForUser(test_subject, trainset):\n",
        "    fill = trainset.global_mean\n",
        "\n",
        "    anti_testset = []\n",
        "    \n",
        "    u = trainset.to_inner_uid(str(test_subject))\n",
        "    \n",
        "    user_items = set([j for (j, _) in trainset.ur[u]])\n",
        "    anti_testset += [(trainset.to_raw_uid(u), trainset.to_raw_iid(i), fill) for\n",
        "                             i in trainset.all_items() if\n",
        "                             i not in user_items]\n",
        "    return anti_testset"
      ]
    },
    {
      "cell_type": "code",
      "execution_count": 3,
      "metadata": {},
      "outputs": [
        {
          "name": "stdout",
          "output_type": "stream",
          "text": [
            "Loading movie ratings...\n",
            "\n",
            "Computing movie popularity ranks so we can measure novelty later...\n",
            "\n",
            "User  85  loved these movies:\n",
            "Jumanji (1995)\n",
            "GoldenEye (1995)\n",
            "Braveheart (1995)\n",
            "Jerky Boys, The (1995)\n",
            "LÃ©on: The Professional (a.k.a. The Professional) (LÃ©on) (1994)\n",
            "Pulp Fiction (1994)\n",
            "Stargate (1994)\n",
            "Shawshank Redemption, The (1994)\n",
            "Star Trek: Generations (1994)\n",
            "Clear and Present Danger (1994)\n",
            "Speed (1994)\n",
            "True Lies (1994)\n",
            "Fugitive, The (1993)\n",
            "Jurassic Park (1993)\n",
            "Terminator 2: Judgment Day (1991)\n",
            "Mission: Impossible (1996)\n",
            "Rock, The (1996)\n",
            "\n",
            "...and didn't like these movies:\n",
            "Grumpier Old Men (1995)\n",
            "Mortal Kombat (1995)\n",
            "Postman, The (Postino, Il) (1994)\n",
            "Casper (1995)\n",
            "Lord of Illusions (1995)\n",
            "Mighty Morphin Power Rangers: The Movie (1995)\n",
            "Prophecy, The (1995)\n",
            "Dolores Claiborne (1995)\n",
            "Heavenly Creatures (1994)\n",
            "Little Women (1994)\n",
            "Miracle on 34th Street (1994)\n",
            "Nell (1994)\n",
            "Poison Ivy II (1996)\n",
            "Tank Girl (1995)\n",
            "While You Were Sleeping (1995)\n",
            "Wes Craven's New Nightmare (Nightmare on Elm Street Part 7: Freddy's Finale, A) (1994)\n",
            "Naked Gun 33 1/3: The Final Insult (1994)\n",
            "Richie Rich (1994)\n",
            "Beverly Hills Cop III (1994)\n",
            "Philadelphia (1993)\n",
            "Schindler's List (1993)\n",
            "Super Mario Bros. (1993)\n",
            "Nightmare Before Christmas, The (1993)\n",
            "Snow White and the Seven Dwarfs (1937)\n",
            "Operation Dumbo Drop (1995)\n",
            "Oliver & Company (1988)\n"
          ]
        }
      ],
      "source": [
        "# Pick an arbitrary test subject\n",
        "test_subject = 85\n",
        "\n",
        "lens, data, _ = MovieLens.load()\n",
        "\n",
        "user_ratings = lens.get_user_ratings(test_subject)\n",
        "loved = []\n",
        "hated = []\n",
        "for ratings in user_ratings:\n",
        "    if (float(ratings[1]) > 4.0):\n",
        "        loved.append(ratings)\n",
        "    if (float(ratings[1]) < 3.0):\n",
        "        hated.append(ratings)\n",
        "\n",
        "print(\"\\nUser \", test_subject, \" loved these movies:\")\n",
        "for ratings in loved:\n",
        "    print(lens.get_movie_name(ratings[0]))\n",
        "print(\"\\n...and didn't like these movies:\")\n",
        "for ratings in hated:\n",
        "    print(lens.get_movie_name(ratings[0]))"
      ]
    },
    {
      "cell_type": "code",
      "execution_count": 4,
      "metadata": {},
      "outputs": [
        {
          "data": {
            "text/plain": [
              "<surprise.prediction_algorithms.matrix_factorization.SVD at 0x7dd184a680e0>"
            ]
          },
          "execution_count": 4,
          "metadata": {},
          "output_type": "execute_result"
        }
      ],
      "source": [
        "# Building recommendation model\n",
        "train_set = data.build_full_trainset()\n",
        "\n",
        "algo = SVD()\n",
        "algo.fit(train_set)"
      ]
    },
    {
      "cell_type": "code",
      "execution_count": 5,
      "metadata": {},
      "outputs": [
        {
          "name": "stdout",
          "output_type": "stream",
          "text": [
            "Loading movie ratings...\n",
            "\n",
            "We recommend:\n",
            "Princess Bride, The (1987)\n",
            "Casablanca (1942)\n",
            "Ocean's Eleven (2001)\n",
            "Producers, The (1968)\n",
            "Lord of the Rings: The Return of the King, The (2003)\n",
            "Smoke (1995)\n",
            "North by Northwest (1959)\n",
            "Run Lola Run (Lola rennt) (1998)\n",
            "Inglourious Basterds (2009)\n",
            "Modern Times (1936)\n"
          ]
        }
      ],
      "source": [
        "# Computing recommendations\n",
        "test_set = BuildAntiTestSetForUser(test_subject, train_set)\n",
        "predictions = algo.test(test_set)\n",
        "\n",
        "recommendations = []\n",
        "\n",
        "print(\"Loading movie ratings...\")\n",
        "data = lens.load_movielens_data()\n",
        "\n",
        "print (\"\\nWe recommend:\")\n",
        "for user_id, movie_id, true_rating, predicted_rating, _ in predictions:\n",
        "    intMovieID = int(movie_id)\n",
        "    recommendations.append((intMovieID, predicted_rating))\n",
        "\n",
        "recommendations.sort(key=lambda x: x[1], reverse=True)\n",
        "\n",
        "for ratings in recommendations[:10]:\n",
        "    print(lens.get_movie_name(ratings[0]))"
      ]
    }
  ],
  "metadata": {
    "kernelspec": {
      "display_name": "RecSys",
      "language": "python",
      "name": "python3"
    },
    "language_info": {
      "codemirror_mode": {
        "name": "ipython",
        "version": 3
      },
      "file_extension": ".py",
      "mimetype": "text/x-python",
      "name": "python",
      "nbconvert_exporter": "python",
      "pygments_lexer": "ipython3",
      "version": "3.12.11"
    }
  },
  "nbformat": 4,
  "nbformat_minor": 2
}
