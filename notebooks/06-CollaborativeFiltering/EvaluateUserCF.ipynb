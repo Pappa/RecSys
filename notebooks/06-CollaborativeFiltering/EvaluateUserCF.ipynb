{
  "cells": [
    {
      "cell_type": "markdown",
      "metadata": {},
      "source": [
        "# Evaluating User-Based Collaborative Filtering\n",
        "\n",
        "This notebook demonstrates how to evaluate a user-based collaborative filtering recommender system using leave-one-out cross-validation and hit rate metrics.\n",
        "\n",
        "The evaluation process includes:\n",
        "1. Loading the MovieLens dataset\n",
        "2. Setting up leave-one-out cross-validation\n",
        "3. Training a user-based KNN model\n",
        "4. Generate recommendations for each user\n",
        "5. Measuring the hit rate on the test set"
      ]
    },
    {
      "cell_type": "markdown",
      "metadata": {},
      "source": [
        "### Import Required Libraries"
      ]
    },
    {
      "cell_type": "code",
      "execution_count": 1,
      "metadata": {},
      "outputs": [],
      "source": [
        "from recsys.MovieLens import MovieLens\n",
        "from surprise import KNNBasic\n",
        "import heapq\n",
        "from collections import defaultdict\n",
        "from operator import itemgetter\n",
        "from surprise.model_selection import LeaveOneOut\n",
        "from recsys.RecommenderMetrics import RecommenderMetrics\n",
        "from recsys.EvaluationDataset import EvaluationDataset"
      ]
    },
    {
      "cell_type": "markdown",
      "metadata": {},
      "source": [
        "### Load Data and Initialize Evaluator"
      ]
    },
    {
      "cell_type": "code",
      "execution_count": 2,
      "metadata": {},
      "outputs": [],
      "source": [
        "lens, ratings_data, rankings = MovieLens.load()\n",
        "\n",
        "# Initialize evaluation data with leave-one-out cross-validation\n",
        "evaluation_dataset = EvaluationDataset(ratings_data, rankings)"
      ]
    },
    {
      "cell_type": "markdown",
      "metadata": {},
      "source": [
        "### Train the Model\n",
        "\n",
        "We'll train a user-based KNN model using cosine similarity on the leave-one-out training set."
      ]
    },
    {
      "cell_type": "code",
      "execution_count": 6,
      "metadata": {},
      "outputs": [],
      "source": [
        "# Get the leave-one-out training set\n",
        "loo_trainset = evaluation_dataset.loo_trainset\n",
        "\n",
        "# Configure and train the model\n",
        "sim_options = {\n",
        "    'name': 'cosine',\n",
        "    'user_based': True\n",
        "}\n",
        "\n",
        "model = KNNBasic(sim_options=sim_options, verbose=False)\n",
        "model.fit(loo_trainset)\n",
        "similarity_matrix = model.compute_similarities()"
      ]
    },
    {
      "cell_type": "markdown",
      "metadata": {},
      "source": [
        "### Generate Recommendations\n",
        "\n",
        "For each user, we'll:\n",
        "1. Find their k most similar users\n",
        "2. Get items rated by similar users\n",
        "3. Generate recommendations based on weighted ratings"
      ]
    },
    {
      "cell_type": "code",
      "execution_count": 4,
      "metadata": {},
      "outputs": [],
      "source": [
        "# Get the leave-one-out test set\n",
        "loo_testset = evaluation_dataset.loo_testset\n",
        "\n",
        "# Generate recommendations for each user\n",
        "top_n = defaultdict(list)\n",
        "k = 10\n",
        "\n",
        "for uiid in range(loo_trainset.n_users):\n",
        "    # Get top N similar users\n",
        "    similarityRow = similarity_matrix[uiid]\n",
        "    \n",
        "    similar_users = []\n",
        "    for inner_id, score in enumerate(similarityRow):\n",
        "        if (inner_id != uiid):\n",
        "            similar_users.append((inner_id, score))\n",
        "    \n",
        "    k_neighbours = heapq.nlargest(k, similar_users, key=lambda t: t[1])\n",
        "    \n",
        "    # Get items rated by similar users\n",
        "    candidates = defaultdict(float)\n",
        "    for similar_user in k_neighbours:\n",
        "        inner_id = similar_user[0]\n",
        "        user_similarity_score = similar_user[1]\n",
        "        users_own_ratings = loo_trainset.ur[inner_id]\n",
        "        for rating in users_own_ratings:\n",
        "            candidates[rating[0]] += (rating[1] / 5.0) * user_similarity_score\n",
        "    \n",
        "    # Track items the user has already seen\n",
        "    watched = {}\n",
        "    for item_id, rating in loo_trainset.ur[uiid]:\n",
        "        watched[item_id] = 1\n",
        "    \n",
        "    # Get top recommendations\n",
        "    pos = 0\n",
        "    for item_id, rating_sum in sorted(candidates.items(), key=itemgetter(1), reverse=True):\n",
        "        if not item_id in watched:\n",
        "            movie_id = loo_trainset.to_raw_iid(item_id)\n",
        "            top_n[int(loo_trainset.to_raw_uid(uiid))].append((int(movie_id), 0.0))\n",
        "            pos += 1\n",
        "            if (pos > 40):\n",
        "                break"
      ]
    },
    {
      "cell_type": "markdown",
      "metadata": {},
      "source": [
        "### Evaluate Performance\n",
        "\n",
        "Let's measure the hit rate of our recommendations against the test set."
      ]
    },
    {
      "cell_type": "code",
      "execution_count": 8,
      "metadata": {},
      "outputs": [
        {
          "data": {
            "text/plain": [
              "'Hit Rate: 0.05514157973174367'"
            ]
          },
          "execution_count": 8,
          "metadata": {},
          "output_type": "execute_result"
        }
      ],
      "source": [
        "hit_rate, cumulative_hit_rate, average_reciprocal_hit_rank = RecommenderMetrics.hit_rate_metrics(top_n, loo_testset, 4.0)\n",
        "    \n",
        "\n",
        "(\n",
        "    f\"Hit Rate: {hit_rate}\\n\"\n",
        "    f\"Cumulative Hit Rate: {cumulative_hit_rate}\\n\"\n",
        "    f\"Average Reciprocal Hit Rank: {average_reciprocal_hit_rank}\"\n",
        ")"
      ]
    }
  ],
  "metadata": {
    "kernelspec": {
      "display_name": ".venv",
      "language": "python",
      "name": "python3"
    },
    "language_info": {
      "codemirror_mode": {
        "name": "ipython",
        "version": 3
      },
      "file_extension": ".py",
      "mimetype": "text/x-python",
      "name": "python",
      "nbconvert_exporter": "python",
      "pygments_lexer": "ipython3",
      "version": "3.12.10"
    }
  },
  "nbformat": 4,
  "nbformat_minor": 4
}
