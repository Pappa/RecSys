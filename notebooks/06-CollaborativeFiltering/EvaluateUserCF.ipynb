{
 "cells": [
  {
   "cell_type": "markdown",
   "metadata": {},
   "source": [
    "# Evaluating User-Based Collaborative Filtering\n",
    "\n",
    "This notebook demonstrates how to evaluate a user-based collaborative filtering recommender system using leave-one-out cross-validation and hit rate metrics.\n",
    "\n",
    "The evaluation process includes:\n",
    "1. Loading the MovieLens dataset\n",
    "2. Setting up leave-one-out cross-validation\n",
    "3. Training a user-based KNN model\n",
    "4. Computing recommendations for each user\n",
    "5. Measuring the hit rate on the test set"
   ]
  },
  {
   "cell_type": "code",
   "execution_count": null,
   "metadata": {},
   "source": [
    "# Import required libraries\n",
    "from recsys.MovieLens import MovieLens\n",
    "from surprise import KNNBasic\n",
    "import heapq\n",
    "from collections import defaultdict\n",
    "from operator import itemgetter\n",
    "from surprise.model_selection import LeaveOneOut\n",
    "from recsys.RecommenderMetrics import RecommenderMetrics\n",
    "from recsys.EvaluationData import EvaluationData"
   ]
  },
  {
   "cell_type": "code",
   "execution_count": null,
   "metadata": {},
   "source": [
    "# Load the MovieLens dataset\n",
    "ml, data, rankings = MovieLens.load()\n",
    "\n",
    "# Initialize evaluation data with leave-one-out cross-validation\n",
    "evalData = EvaluationData(data, rankings)"
   ]
  },
  {
   "cell_type": "markdown",
   "metadata": {},
   "source": [
    "## Train the Model\n",
    "\n",
    "We'll train a user-based KNN model using cosine similarity on the leave-one-out training set."
   ]
  },
  {
   "cell_type": "code",
   "execution_count": null,
   "metadata": {},
   "source": [
    "# Get the leave-one-out training set\n",
    "trainSet = evalData.GetLOOCVTrainSet()\n",
    "\n",
    "# Configure and train the model\n",
    "sim_options = {\n",
    "    'name': 'cosine',\n",
    "    'user_based': True\n",
    "}\n",
    "\n",
    "model = KNNBasic(sim_options=sim_options)\n",
    "model.fit(trainSet)\n",
    "simsMatrix = model.compute_similarities()"
   ]
  },
  {
   "cell_type": "markdown",
   "metadata": {},
   "source": [
    "## Generate Recommendations\n",
    "\n",
    "For each user, we'll:\n",
    "1. Find their k most similar users\n",
    "2. Get items rated by similar users\n",
    "3. Generate recommendations based on weighted ratings"
   ]
  },
  {
   "cell_type": "code",
   "execution_count": null,
   "metadata": {},
   "source": [
    "# Get the leave-one-out test set\n",
    "leftOutTestSet = evalData.GetLOOCVTestSet()\n",
    "\n",
    "# Generate recommendations for each user\n",
    "topN = defaultdict(list)\n",
    "k = 10\n",
    "\n",
    "for uiid in range(trainSet.n_users):\n",
    "    # Get top N similar users\n",
    "    similarityRow = simsMatrix[uiid]\n",
    "    \n",
    "    similarUsers = []\n",
    "    for innerID, score in enumerate(similarityRow):\n",
    "        if (innerID != uiid):\n",
    "            similarUsers.append((innerID, score))\n",
    "    \n",
    "    kNeighbors = heapq.nlargest(k, similarUsers, key=lambda t: t[1])\n",
    "    \n",
    "    # Get items rated by similar users\n",
    "    candidates = defaultdict(float)\n",
    "    for similarUser in kNeighbors:\n",
    "        innerID = similarUser[0]\n",
    "        userSimilarityScore = similarUser[1]\n",
    "        theirRatings = trainSet.ur[innerID]\n",
    "        for rating in theirRatings:\n",
    "            candidates[rating[0]] += (rating[1] / 5.0) * userSimilarityScore\n",
    "    \n",
    "    # Track items the user has already seen\n",
    "    watched = {}\n",
    "    for itemID, rating in trainSet.ur[uiid]:\n",
    "        watched[itemID] = 1\n",
    "    \n",
    "    # Get top recommendations\n",
    "    pos = 0\n",
    "    for itemID, ratingSum in sorted(candidates.items(), key=itemgetter(1), reverse=True):\n",
    "        if not itemID in watched:\n",
    "            movieID = trainSet.to_raw_iid(itemID)\n",
    "            topN[int(trainSet.to_raw_uid(uiid))].append((int(movieID), 0.0))\n",
    "            pos += 1\n",
    "            if (pos > 40):\n",
    "                break"
   ]
  },
  {
   "cell_type": "markdown",
   "metadata": {},
   "source": [
    "## Evaluate Performance\n",
    "\n",
    "Let's measure the hit rate of our recommendations against the test set."
   ]
  },
  {
   "cell_type": "code",
   "execution_count": null,
   "metadata": {},
   "source": [
    "# Calculate and print the hit rate\n",
    "print(\"Hit Rate:\", RecommenderMetrics.HitRate(topN, leftOutTestSet))"
   ]
  }
 ],
 "metadata": {
  "kernelspec": {
   "display_name": "Python 3",
   "language": "python",
   "name": "python3"
  },
  "language_info": {
   "codemirror_mode": {
    "name": "ipython",
    "version": 3
   },
   "file_extension": ".py",
   "mimetype": "text/x-python",
   "name": "python",
   "nbconvert_exporter": "python",
   "pygments_lexer": "ipython3",
   "version": "3.8.0"
  }
 },
 "nbformat": 4,
 "nbformat_minor": 4
} 