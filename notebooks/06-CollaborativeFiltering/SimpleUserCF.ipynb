{
  "cells": [
    {
      "cell_type": "markdown",
      "metadata": {},
      "source": [
        "# Simple User-Based Collaborative Filtering\n",
        "\n",
        "This notebook demonstrates a simple implementation of user-based collaborative filtering using the MovieLens dataset.\n",
        "\n",
        "The process includes:\n",
        "1. Loading the MovieLens dataset\n",
        "2. Training a user-based KNN model\n",
        "3. Finding similar users to a test subject\n",
        "4. Generating personalized recommendations based on similar users' ratings"
      ]
    },
    {
      "cell_type": "code",
      "execution_count": 1,
      "metadata": {},
      "outputs": [],
      "source": [
        "from recsys.MovieLens import MovieLens\n",
        "from surprise import KNNBasic\n",
        "import heapq\n",
        "from collections import defaultdict\n",
        "from operator import itemgetter"
      ]
    },
    {
      "cell_type": "markdown",
      "metadata": {},
      "source": [
        "### Setup and Data Loading\n",
        "\n",
        "We'll use user ID 85 as our test subject and set k=10 for the number of similar users to consider."
      ]
    },
    {
      "cell_type": "code",
      "execution_count": null,
      "metadata": {},
      "outputs": [],
      "source": [
        "# Set parameters\n",
        "test_uid = 85\n",
        "k = 10\n",
        "\n",
        "# Load the MovieLens dataset\n",
        "lens, data, ratings = MovieLens.load()\n",
        "\n",
        "# Build the training set\n",
        "train_set = data.build_full_trainset()"
      ]
    },
    {
      "cell_type": "markdown",
      "metadata": {},
      "source": [
        "### Train the Model\n",
        "\n",
        "We'll train a user-based KNN model using cosine similarity."
      ]
    },
    {
      "cell_type": "code",
      "execution_count": null,
      "metadata": {},
      "outputs": [],
      "source": [
        "# Configure and train the model\n",
        "sim_options = {\n",
        "    'name': 'cosine',\n",
        "    'user_based': True\n",
        "}\n",
        "\n",
        "model = KNNBasic(sim_options=sim_options)\n",
        "model.fit(train_set)\n",
        "similarity_matrix = model.compute_similarities()"
      ]
    },
    {
      "cell_type": "markdown",
      "metadata": {},
      "source": [
        "### Generate Recommendations\n",
        "\n",
        "For our test user, we'll:\n",
        "1. Find their k most similar users\n",
        "2. Get items rated by similar users\n",
        "3. Generate recommendations based on weighted ratings from similar users"
      ]
    },
    {
      "cell_type": "code",
      "execution_count": null,
      "metadata": {},
      "outputs": [],
      "source": [
        "# Get the test user's inner ID\n",
        "test_inner_uid = train_set.to_inner_uid(str(test_uid))\n",
        "\n",
        "# Find similar users\n",
        "user_similarities = similarity_matrix[test_inner_uid]\n",
        "\n",
        "similar_users = []\n",
        "for inner_uid, score in enumerate(user_similarities):\n",
        "    if (inner_uid != test_inner_uid):\n",
        "        similar_users.append((inner_uid, score))\n",
        "\n",
        "k_neighbours = heapq.nlargest(k, similar_users, key=lambda t: t[1])\n",
        "\n",
        "# Get items rated by similar users\n",
        "candidates = defaultdict(float)\n",
        "for similar_user in k_neighbours:\n",
        "    inner_uid = similar_user[0]\n",
        "    user_similarity_score = similar_user[1]\n",
        "    users_own_ratings = train_set.ur[inner_uid]\n",
        "    for rating in users_own_ratings:\n",
        "        candidates[rating[0]] += (rating[1] / 5.0) * user_similarity_score\n",
        "\n",
        "# Track items the user has already seen\n",
        "watched = {}\n",
        "for item_id, rating in train_set.ur[test_inner_uid]:\n",
        "    watched[item_id] = 1\n",
        "\n",
        "print(\"Top 10 recommendations for user\", test_uid, \":\\n\")\n",
        "pos = 0\n",
        "for item_id, rating_sum in sorted(candidates.items(), key=itemgetter(1), reverse=True):\n",
        "    if not item_id in watched:\n",
        "        movie_id = train_set.to_raw_iid(item_id)\n",
        "        print(lens.get_movie_name(int(movie_id)), rating_sum)\n",
        "        pos += 1\n",
        "        if (pos > 10):\n",
        "            break"
      ]
    }
  ],
  "metadata": {
    "kernelspec": {
      "display_name": ".venv",
      "language": "python",
      "name": "python3"
    },
    "language_info": {
      "codemirror_mode": {
        "name": "ipython",
        "version": 3
      },
      "file_extension": ".py",
      "mimetype": "text/x-python",
      "name": "python",
      "nbconvert_exporter": "python",
      "pygments_lexer": "ipython3",
      "version": "3.12.10"
    }
  },
  "nbformat": 4,
  "nbformat_minor": 4
}
