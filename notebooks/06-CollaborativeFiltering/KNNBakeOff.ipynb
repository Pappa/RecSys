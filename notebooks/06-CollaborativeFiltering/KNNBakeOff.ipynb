{
  "cells": [
    {
      "cell_type": "markdown",
      "metadata": {},
      "source": [
        "# KNN Recommender Bake-Off\n",
        "\n",
        "This notebook compares different KNN-based collaborative filtering approaches:\n",
        "- User-based KNN with cosine similarity\n",
        "- Item-based KNN with cosine similarity\n",
        "- Random recommendations (baseline)\n",
        "\n",
        "We'll evaluate these approaches using the MovieLens dataset and compare their performance."
      ]
    },
    {
      "cell_type": "markdown",
      "metadata": {},
      "source": [
        "### Import Required Libraries"
      ]
    },
    {
      "cell_type": "code",
      "execution_count": 1,
      "metadata": {},
      "outputs": [],
      "source": [
        "from recsys.MovieLens import MovieLens\n",
        "from surprise import KNNBasic\n",
        "from surprise import NormalPredictor\n",
        "from recsys.Evaluator import Evaluator\n",
        "\n",
        "import random\n",
        "import numpy as np"
      ]
    },
    {
      "cell_type": "markdown",
      "metadata": {},
      "source": [
        "### Set Random Seeds for Reproducibility"
      ]
    },
    {
      "cell_type": "code",
      "execution_count": 2,
      "metadata": {},
      "outputs": [],
      "source": [
        "np.random.seed(0)\n",
        "random.seed(0)"
      ]
    },
    {
      "cell_type": "markdown",
      "metadata": {},
      "source": [
        "### Load Data and Initialize Evaluator"
      ]
    },
    {
      "cell_type": "code",
      "execution_count": 3,
      "metadata": {},
      "outputs": [],
      "source": [
        "lens, ratings_data, rankings = MovieLens.load()\n",
        "\n",
        "evaluator = Evaluator(ratings_data, rankings)"
      ]
    },
    {
      "cell_type": "markdown",
      "metadata": {},
      "source": [
        "### Initialize Recommender Algorithms\n",
        "\n",
        "We'll compare three different approaches:\n",
        "1. User-based KNN with cosine similarity\n",
        "2. Item-based KNN with cosine similarity\n",
        "3. Random recommendations (baseline)"
      ]
    },
    {
      "cell_type": "code",
      "execution_count": 4,
      "metadata": {},
      "outputs": [],
      "source": [
        "user_knn = KNNBasic(sim_options={'name': 'cosine', 'user_based': True}, verbose=False)\n",
        "evaluator.add_algorithm(user_knn, \"User KNN\")\n",
        "\n",
        "item_knn = KNNBasic(sim_options={'name': 'cosine', 'user_based': False}, verbose=False)\n",
        "evaluator.add_algorithm(item_knn, \"Item KNN\")\n",
        "\n",
        "random_model = NormalPredictor()\n",
        "evaluator.add_algorithm(random_model, \"Random\")"
      ]
    },
    {
      "cell_type": "markdown",
      "metadata": {},
      "source": [
        "### Evaluate the Algorithms\n",
        "\n",
        "Let's run the evaluation to compare the performance of our algorithms."
      ]
    },
    {
      "cell_type": "code",
      "execution_count": 5,
      "metadata": {},
      "outputs": [
        {
          "data": {
            "text/html": [
              "<div>\n",
              "<style scoped>\n",
              "    .dataframe tbody tr th:only-of-type {\n",
              "        vertical-align: middle;\n",
              "    }\n",
              "\n",
              "    .dataframe tbody tr th {\n",
              "        vertical-align: top;\n",
              "    }\n",
              "\n",
              "    .dataframe thead th {\n",
              "        text-align: right;\n",
              "    }\n",
              "</style>\n",
              "<table border=\"1\" class=\"dataframe\">\n",
              "  <thead>\n",
              "    <tr style=\"text-align: right;\">\n",
              "      <th></th>\n",
              "      <th>RMSE</th>\n",
              "      <th>MAE</th>\n",
              "      <th>HR</th>\n",
              "      <th>cHR</th>\n",
              "      <th>ARHR</th>\n",
              "      <th>Coverage</th>\n",
              "      <th>Diversity</th>\n",
              "      <th>Novelty</th>\n",
              "    </tr>\n",
              "    <tr>\n",
              "      <th>Algorithm</th>\n",
              "      <th></th>\n",
              "      <th></th>\n",
              "      <th></th>\n",
              "      <th></th>\n",
              "      <th></th>\n",
              "      <th></th>\n",
              "      <th></th>\n",
              "      <th></th>\n",
              "    </tr>\n",
              "  </thead>\n",
              "  <tbody>\n",
              "    <tr>\n",
              "      <th>User KNN</th>\n",
              "      <td>0.996106</td>\n",
              "      <td>0.771132</td>\n",
              "      <td>0.000000</td>\n",
              "      <td>0.000000</td>\n",
              "      <td>0.000000</td>\n",
              "      <td>1.0</td>\n",
              "      <td>0.858553</td>\n",
              "      <td>5654.104173</td>\n",
              "    </tr>\n",
              "    <tr>\n",
              "      <th>Item KNN</th>\n",
              "      <td>0.999465</td>\n",
              "      <td>0.779842</td>\n",
              "      <td>0.000000</td>\n",
              "      <td>0.000000</td>\n",
              "      <td>0.000000</td>\n",
              "      <td>1.0</td>\n",
              "      <td>0.653235</td>\n",
              "      <td>6742.359165</td>\n",
              "    </tr>\n",
              "    <tr>\n",
              "      <th>Random</th>\n",
              "      <td>1.438459</td>\n",
              "      <td>1.147809</td>\n",
              "      <td>0.008942</td>\n",
              "      <td>0.005961</td>\n",
              "      <td>0.001505</td>\n",
              "      <td>1.0</td>\n",
              "      <td>0.071946</td>\n",
              "      <td>557.836513</td>\n",
              "    </tr>\n",
              "  </tbody>\n",
              "</table>\n",
              "</div>"
            ],
            "text/plain": [
              "               RMSE       MAE        HR       cHR      ARHR  Coverage  \\\n",
              "Algorithm                                                               \n",
              "User KNN   0.996106  0.771132  0.000000  0.000000  0.000000       1.0   \n",
              "Item KNN   0.999465  0.779842  0.000000  0.000000  0.000000       1.0   \n",
              "Random     1.438459  1.147809  0.008942  0.005961  0.001505       1.0   \n",
              "\n",
              "           Diversity      Novelty  \n",
              "Algorithm                          \n",
              "User KNN    0.858553  5654.104173  \n",
              "Item KNN    0.653235  6742.359165  \n",
              "Random      0.071946   557.836513  "
            ]
          },
          "execution_count": 5,
          "metadata": {},
          "output_type": "execute_result"
        }
      ],
      "source": [
        "results = evaluator.evaluate(top_n_metrics=True, coverage_threshold=4.0)\n",
        "\n",
        "results.to_df()"
      ]
    },
    {
      "cell_type": "markdown",
      "metadata": {},
      "source": [
        "### Generate Sample Recommendations\n",
        "\n",
        "Let's look at some sample recommendations for a user to see how the different approaches perform in practice."
      ]
    },
    {
      "cell_type": "code",
      "execution_count": 6,
      "metadata": {},
      "outputs": [
        {
          "name": "stdout",
          "output_type": "stream",
          "text": [
            "Computing the cosine similarity matrix...\n",
            "Done computing similarity matrix.\n",
            "Computing the cosine similarity matrix...\n",
            "Done computing similarity matrix.\n",
            "User KNN\n",
            "  One Magic Christmas (1985)\n",
            "  Step Into Liquid (2002)\n",
            "  Art of War, The (2000)\n",
            "  Taste of Cherry (Ta'm e guilass) (1997)\n",
            "  King Is Alive, The (2000)\n",
            "  Innocence (2000)\n",
            "  MaelstrÃ¶m (2000)\n",
            "  Faust (1926)\n",
            "  Seconds (1966)\n",
            "  Amazing Grace (2006)\n",
            "Item KNN\n",
            "  Life in a Day (2011)\n",
            "  Under Suspicion (2000)\n",
            "  Asterix and the Gauls (AstÃ©rix le Gaulois) (1967)\n",
            "  Find Me Guilty (2006)\n",
            "  Elementary Particles, The (Elementarteilchen) (2006)\n",
            "  Asterix and the Vikings (AstÃ©rix et les Vikings) (2006)\n",
            "  From the Sky Down (2011)\n",
            "  Vive L'Amour (Ai qing wan sui) (1994)\n",
            "  Vagabond (Sans toit ni loi) (1985)\n",
            "  Ariel (1988)\n",
            "Random\n",
            "  Dracula (Bram Stoker's Dracula) (1992)\n",
            "  Beavis and Butt-Head Do America (1996)\n",
            "  Blazing Saddles (1974)\n",
            "  Summer of Sam (1999)\n",
            "  Stir of Echoes (1999)\n",
            "  Fight Club (1999)\n",
            "  V for Vendetta (2006)\n",
            "  Coneheads (1993)\n",
            "  Mary Poppins (1964)\n",
            "  Cheech and Chong's Up in Smoke (1978)\n"
          ]
        }
      ],
      "source": [
        "samples = evaluator.sample_top_n_recs(uid=85)\n",
        "\n",
        "for algorithm, recs in samples.items():\n",
        "    print(f\"{algorithm}\")\n",
        "    movie_names = lens.get_movie_names(recs)\n",
        "    for movie_name in movie_names:\n",
        "        print(f\"  {movie_name}\")"
      ]
    }
  ],
  "metadata": {
    "kernelspec": {
      "display_name": "RecSys",
      "language": "python",
      "name": "python3"
    },
    "language_info": {
      "codemirror_mode": {
        "name": "ipython",
        "version": 3
      },
      "file_extension": ".py",
      "mimetype": "text/x-python",
      "name": "python",
      "nbconvert_exporter": "python",
      "pygments_lexer": "ipython3",
      "version": "3.12.11"
    }
  },
  "nbformat": 4,
  "nbformat_minor": 4
}
