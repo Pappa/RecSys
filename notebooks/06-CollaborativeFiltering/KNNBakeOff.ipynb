{
  "cells": [
    {
      "cell_type": "markdown",
      "metadata": {},
      "source": [
        "# KNN Recommender Bake-Off\n",
        "\n",
        "This notebook compares different KNN-based collaborative filtering approaches:\n",
        "- User-based KNN with cosine similarity\n",
        "- Item-based KNN with cosine similarity\n",
        "- Random recommendations (baseline)\n",
        "\n",
        "We'll evaluate these approaches using the MovieLens dataset and compare their performance."
      ]
    },
    {
      "cell_type": "markdown",
      "metadata": {},
      "source": [
        "### Import Required Libraries"
      ]
    },
    {
      "cell_type": "code",
      "execution_count": 1,
      "metadata": {},
      "outputs": [],
      "source": [
        "from recsys.MovieLens import MovieLens\n",
        "from surprise import KNNBasic\n",
        "from surprise import NormalPredictor\n",
        "from recsys.Evaluator import Evaluator\n",
        "\n",
        "import random\n",
        "import numpy as np\n",
        "import pandas as pd"
      ]
    },
    {
      "cell_type": "markdown",
      "metadata": {},
      "source": [
        "### Set Random Seeds for Reproducibility"
      ]
    },
    {
      "cell_type": "code",
      "execution_count": null,
      "metadata": {},
      "outputs": [],
      "source": [
        "np.random.seed(0)\n",
        "random.seed(0)"
      ]
    },
    {
      "cell_type": "markdown",
      "metadata": {},
      "source": [
        "### Load Data and Initialize Evaluator"
      ]
    },
    {
      "cell_type": "code",
      "execution_count": null,
      "metadata": {},
      "outputs": [],
      "source": [
        "lens, ratings_data, rankings = MovieLens.load()\n",
        "\n",
        "evaluator = Evaluator(ratings_data, rankings)"
      ]
    },
    {
      "cell_type": "markdown",
      "metadata": {},
      "source": [
        "### Initialize Recommender Algorithms\n",
        "\n",
        "We'll compare three different approaches:\n",
        "1. User-based KNN with cosine similarity\n",
        "2. Item-based KNN with cosine similarity\n",
        "3. Random recommendations (baseline)"
      ]
    },
    {
      "cell_type": "code",
      "execution_count": 4,
      "metadata": {},
      "outputs": [],
      "source": [
        "user_knn = KNNBasic(sim_options={'name': 'cosine', 'user_based': True})\n",
        "evaluator.add_algorithm(user_knn, \"User KNN\")\n",
        "\n",
        "item_knn = KNNBasic(sim_options={'name': 'cosine', 'user_based': False})\n",
        "evaluator.add_algorithm(item_knn, \"Item KNN\")\n",
        "\n",
        "random_model = NormalPredictor()\n",
        "evaluator.add_algorithm(random_model, \"Random\")"
      ]
    },
    {
      "cell_type": "markdown",
      "metadata": {},
      "source": [
        "### Evaluate the Algorithms\n",
        "\n",
        "Let's run the evaluation to compare the performance of our algorithms."
      ]
    },
    {
      "cell_type": "code",
      "execution_count": null,
      "metadata": {},
      "outputs": [],
      "source": [
        "algorithms, metrics, values = evaluator.evaluate(top_n_metrics=True)"
      ]
    },
    {
      "cell_type": "markdown",
      "metadata": {},
      "source": [
        "### Evaluation results"
      ]
    },
    {
      "cell_type": "code",
      "execution_count": null,
      "metadata": {},
      "outputs": [],
      "source": [
        "results_df = pd.DataFrame(\n",
        "    values, columns=metrics, index=pd.Index(algorithms, name=\"Algorithm\")\n",
        ")\n",
        "results_df"
      ]
    },
    {
      "cell_type": "markdown",
      "metadata": {},
      "source": [
        "### Generate Sample Recommendations\n",
        "\n",
        "Let's look at some sample recommendations for a user to see how the different approaches perform in practice."
      ]
    },
    {
      "cell_type": "code",
      "execution_count": null,
      "metadata": {},
      "outputs": [],
      "source": [
        "samples = evaluator.sample_top_n_recs(lens)\n",
        "samples"
      ]
    }
  ],
  "metadata": {
    "kernelspec": {
      "display_name": "RecSys",
      "language": "python",
      "name": "python3"
    },
    "language_info": {
      "codemirror_mode": {
        "name": "ipython",
        "version": 3
      },
      "file_extension": ".py",
      "mimetype": "text/x-python",
      "name": "python",
      "nbconvert_exporter": "python",
      "pygments_lexer": "ipython3",
      "version": "3.12.11"
    }
  },
  "nbformat": 4,
  "nbformat_minor": 4
}
