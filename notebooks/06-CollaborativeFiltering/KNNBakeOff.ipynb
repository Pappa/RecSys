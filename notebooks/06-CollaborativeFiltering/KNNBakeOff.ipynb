{
  "cells": [
    {
      "cell_type": "markdown",
      "metadata": {},
      "source": [
        "# KNN Recommender Bake-Off\n",
        "\n",
        "This notebook compares different KNN-based collaborative filtering approaches:\n",
        "- User-based KNN with cosine similarity\n",
        "- Item-based KNN with cosine similarity\n",
        "- Random recommendations (baseline)\n",
        "\n",
        "We'll evaluate these approaches using the MovieLens dataset and compare their performance."
      ]
    },
    {
      "cell_type": "code",
      "execution_count": 1,
      "metadata": {},
      "outputs": [],
      "source": [
        "# Import required libraries\n",
        "from recsys.MovieLens import MovieLens\n",
        "from surprise import KNNBasic\n",
        "from surprise import NormalPredictor\n",
        "from recsys.Evaluator import Evaluator\n",
        "\n",
        "import random\n",
        "import numpy as np"
      ]
    },
    {
      "cell_type": "code",
      "execution_count": 2,
      "metadata": {},
      "outputs": [],
      "source": [
        "# Set random seeds for reproducibility\n",
        "np.random.seed(0)\n",
        "random.seed(0)"
      ]
    },
    {
      "cell_type": "code",
      "execution_count": null,
      "metadata": {},
      "outputs": [],
      "source": [
        "# Load the MovieLens dataset\n",
        "(ml, evaluation_dataset, rankings) = MovieLens.load()\n",
        "\n",
        "# Initialize the evaluator\n",
        "evaluator = Evaluator(evaluation_dataset, rankings)"
      ]
    },
    {
      "cell_type": "markdown",
      "metadata": {},
      "source": [
        "## Initialize Recommender Algorithms\n",
        "\n",
        "We'll compare three different approaches:\n",
        "1. User-based KNN with cosine similarity\n",
        "2. Item-based KNN with cosine similarity\n",
        "3. Random recommendations (baseline)"
      ]
    },
    {
      "cell_type": "code",
      "execution_count": 4,
      "metadata": {},
      "outputs": [],
      "source": [
        "# User-based KNN\n",
        "UserKNN = KNNBasic(sim_options={'name': 'cosine', 'user_based': True})\n",
        "evaluator.add_algorithm(UserKNN, \"User KNN\")\n",
        "\n",
        "# Item-based KNN\n",
        "ItemKNN = KNNBasic(sim_options={'name': 'cosine', 'user_based': False})\n",
        "evaluator.add_algorithm(ItemKNN, \"Item KNN\")\n",
        "\n",
        "# Random recommendations (baseline)\n",
        "Random = NormalPredictor()\n",
        "evaluator.add_algorithm(Random, \"Random\")"
      ]
    },
    {
      "cell_type": "markdown",
      "metadata": {},
      "source": [
        "## Evaluate the Algorithms\n",
        "\n",
        "Let's run the evaluation to compare the performance of our algorithms."
      ]
    },
    {
      "cell_type": "code",
      "execution_count": null,
      "metadata": {},
      "outputs": [],
      "source": [
        "results = evaluator.evaluate(True)\n",
        "results"
      ]
    },
    {
      "cell_type": "markdown",
      "metadata": {},
      "source": [
        "## Generate Sample Recommendations\n",
        "\n",
        "Let's look at some sample recommendations for a user to see how the different approaches perform in practice."
      ]
    },
    {
      "cell_type": "code",
      "execution_count": null,
      "metadata": {},
      "outputs": [],
      "source": [
        "samples = evaluator.sample_top_n_recs(ml)\n",
        "samples"
      ]
    }
  ],
  "metadata": {
    "kernelspec": {
      "display_name": "RecSys",
      "language": "python",
      "name": "python3"
    },
    "language_info": {
      "codemirror_mode": {
        "name": "ipython",
        "version": 3
      },
      "file_extension": ".py",
      "mimetype": "text/x-python",
      "name": "python",
      "nbconvert_exporter": "python",
      "pygments_lexer": "ipython3",
      "version": "3.12.11"
    }
  },
  "nbformat": 4,
  "nbformat_minor": 4
}
