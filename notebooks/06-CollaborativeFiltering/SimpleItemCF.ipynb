{
  "cells": [
    {
      "cell_type": "markdown",
      "metadata": {},
      "source": [
        "# Simple Item-Based Collaborative Filtering\n",
        "\n",
        "This notebook demonstrates a simple implementation of item-based collaborative filtering using the MovieLens dataset.\n",
        "\n",
        "The process includes:\n",
        "1. Loading the MovieLens dataset\n",
        "2. Training an item-based KNN model\n",
        "3. Finding similar items to those rated by a test user\n",
        "4. Generating personalized recommendations"
      ]
    },
    {
      "cell_type": "code",
      "execution_count": 1,
      "metadata": {},
      "outputs": [],
      "source": [
        "# Import required libraries\n",
        "from recsys.MovieLens import MovieLens\n",
        "from surprise import KNNBasic\n",
        "import heapq\n",
        "from collections import defaultdict\n",
        "from operator import itemgetter"
      ]
    },
    {
      "cell_type": "markdown",
      "metadata": {},
      "source": [
        "### Setup and Data Loading\n",
        "\n",
        "We'll use user ID 85 as our test subject and set k=10 for the number of similar items to consider."
      ]
    },
    {
      "cell_type": "code",
      "execution_count": null,
      "metadata": {},
      "outputs": [],
      "source": [
        "# Set parameters\n",
        "test_subject = '85'\n",
        "k = 10\n",
        "\n",
        "# Load the MovieLens dataset\n",
        "lens, data, ratings = MovieLens.load()\n",
        "\n",
        "# Build the training set\n",
        "train_set = data.build_full_trainset()"
      ]
    },
    {
      "cell_type": "markdown",
      "metadata": {},
      "source": [
        "### Train the Model\n",
        "\n",
        "We'll train an item-based KNN model using cosine similarity."
      ]
    },
    {
      "cell_type": "code",
      "execution_count": null,
      "metadata": {},
      "outputs": [],
      "source": [
        "# Configure and train the model\n",
        "sim_options = {\n",
        "    'name': 'cosine',\n",
        "    'user_based': False\n",
        "}\n",
        "\n",
        "model = KNNBasic(sim_options=sim_options)\n",
        "model.fit(train_set)\n",
        "similarity_matrix = model.compute_similarities()"
      ]
    },
    {
      "cell_type": "markdown",
      "metadata": {},
      "source": [
        "### Generate Recommendations\n",
        "\n",
        "For our test user, we'll:\n",
        "1. Get their top k rated items\n",
        "2. Find similar items to those they rated highly\n",
        "3. Generate recommendations based on item similarity and ratings"
      ]
    },
    {
      "cell_type": "code",
      "execution_count": null,
      "metadata": {},
      "outputs": [],
      "source": [
        "# Get the test user's inner ID\n",
        "testUserInnerID = train_set.to_inner_uid(test_subject)\n",
        "\n",
        "# Get the top K items rated by the user\n",
        "testUserRatings = train_set.ur[testUserInnerID]\n",
        "k_neighbours = heapq.nlargest(k, testUserRatings, key=lambda t: t[1])\n",
        "\n",
        "# Find similar items to those rated highly by the user\n",
        "candidates = defaultdict(float)\n",
        "for item_id, rating in k_neighbours:\n",
        "    similarityRow = similarity_matrix[item_id]\n",
        "    for inner_id, score in enumerate(similarityRow):\n",
        "        candidates[inner_id] += score * (rating / 5.0)\n",
        "\n",
        "# Track items the user has already seen\n",
        "watched = {}\n",
        "for item_id, rating in train_set.ur[testUserInnerID]:\n",
        "    watched[item_id] = 1\n",
        "\n",
        "# Get and display top recommendations\n",
        "print(\"Top 10 recommendations for user\", test_subject, \":\\n\")\n",
        "pos = 0\n",
        "for item_id, rating_sum in sorted(candidates.items(), key=itemgetter(1), reverse=True):\n",
        "    if not item_id in watched:\n",
        "        movie_id = train_set.to_raw_iid(item_id)\n",
        "        print(lens.get_movie_name(int(movie_id)), rating_sum)\n",
        "        pos += 1\n",
        "        if (pos > 10):\n",
        "            break"
      ]
    }
  ],
  "metadata": {
    "kernelspec": {
      "display_name": "RecSys",
      "language": "python",
      "name": "python3"
    },
    "language_info": {
      "codemirror_mode": {
        "name": "ipython",
        "version": 3
      },
      "file_extension": ".py",
      "mimetype": "text/x-python",
      "name": "python",
      "nbconvert_exporter": "python",
      "pygments_lexer": "ipython3",
      "version": "3.12.11"
    }
  },
  "nbformat": 4,
  "nbformat_minor": 4
}
