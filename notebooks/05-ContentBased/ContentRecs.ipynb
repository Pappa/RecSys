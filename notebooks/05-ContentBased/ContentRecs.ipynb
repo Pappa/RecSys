{
  "cells": [
    {
      "cell_type": "markdown",
      "metadata": {},
      "source": [
        "# Content-Based Recommendations\n",
        "\n",
        "This notebook demonstrates content-based recommendations using the ContentKNN algorithm. \n",
        "\n",
        "It compares the performance of content-based recommendations against random recommendations using various accuracy and top-n metrics."
      ]
    },
    {
      "cell_type": "markdown",
      "metadata": {},
      "source": [
        "### Import Required Libraries"
      ]
    },
    {
      "cell_type": "code",
      "execution_count": 18,
      "metadata": {},
      "outputs": [],
      "source": [
        "from recsys.MovieLens import MovieLens\n",
        "from recsys.algorithms.ContentKNN import ContentKNN\n",
        "from recsys.Evaluator import Evaluator\n",
        "from surprise import NormalPredictor\n",
        "\n",
        "import random\n",
        "import numpy as np\n",
        "import pandas as pd"
      ]
    },
    {
      "cell_type": "markdown",
      "metadata": {},
      "source": [
        "### Set Random Seeds for Reproducibility"
      ]
    },
    {
      "cell_type": "code",
      "execution_count": 19,
      "metadata": {},
      "outputs": [],
      "source": [
        "np.random.seed(0)\n",
        "random.seed(0)"
      ]
    },
    {
      "cell_type": "markdown",
      "metadata": {},
      "source": [
        "### Load Data and Initialize Evaluator"
      ]
    },
    {
      "cell_type": "code",
      "execution_count": null,
      "metadata": {},
      "outputs": [],
      "source": [
        "lens, ratings_data, rankings = MovieLens.load()\n",
        "\n",
        "evaluator = Evaluator(ratings_data, rankings)"
      ]
    },
    {
      "cell_type": "markdown",
      "metadata": {},
      "source": [
        "### Add algorithms to evaluate"
      ]
    },
    {
      "cell_type": "code",
      "execution_count": 21,
      "metadata": {},
      "outputs": [],
      "source": [
        "contentKNN = ContentKNN()\n",
        "evaluator.add_algorithm(contentKNN, \"ContentKNN\")\n",
        "\n",
        "Random = NormalPredictor()\n",
        "evaluator.add_algorithm(Random, \"Random\")"
      ]
    },
    {
      "cell_type": "markdown",
      "metadata": {},
      "source": [
        "### Evaluate and Compare Algorithms"
      ]
    },
    {
      "cell_type": "code",
      "execution_count": null,
      "metadata": {},
      "outputs": [],
      "source": [
        "algorithms, metrics, values = evaluator.evaluate(top_n_metrics=True)"
      ]
    },
    {
      "cell_type": "code",
      "execution_count": 23,
      "metadata": {},
      "outputs": [
        {
          "data": {
            "text/html": [
              "<div>\n",
              "<style scoped>\n",
              "    .dataframe tbody tr th:only-of-type {\n",
              "        vertical-align: middle;\n",
              "    }\n",
              "\n",
              "    .dataframe tbody tr th {\n",
              "        vertical-align: top;\n",
              "    }\n",
              "\n",
              "    .dataframe thead th {\n",
              "        text-align: right;\n",
              "    }\n",
              "</style>\n",
              "<table border=\"1\" class=\"dataframe\">\n",
              "  <thead>\n",
              "    <tr style=\"text-align: right;\">\n",
              "      <th></th>\n",
              "      <th>RMSE</th>\n",
              "      <th>MAE</th>\n",
              "      <th>HR</th>\n",
              "      <th>cHR</th>\n",
              "      <th>ARHR</th>\n",
              "      <th>Coverage</th>\n",
              "      <th>Diversity</th>\n",
              "      <th>Novelty</th>\n",
              "    </tr>\n",
              "    <tr>\n",
              "      <th>Algorithm</th>\n",
              "      <th></th>\n",
              "      <th></th>\n",
              "      <th></th>\n",
              "      <th></th>\n",
              "      <th></th>\n",
              "      <th></th>\n",
              "      <th></th>\n",
              "      <th></th>\n",
              "    </tr>\n",
              "  </thead>\n",
              "  <tbody>\n",
              "    <tr>\n",
              "      <th>ContentKNN</th>\n",
              "      <td>0.937506</td>\n",
              "      <td>0.726342</td>\n",
              "      <td>0.002981</td>\n",
              "      <td>0.002981</td>\n",
              "      <td>0.001703</td>\n",
              "      <td>1.0</td>\n",
              "      <td>0.573919</td>\n",
              "      <td>4559.691505</td>\n",
              "    </tr>\n",
              "    <tr>\n",
              "      <th>Random</th>\n",
              "      <td>1.438459</td>\n",
              "      <td>1.147809</td>\n",
              "      <td>0.008942</td>\n",
              "      <td>0.008942</td>\n",
              "      <td>0.001505</td>\n",
              "      <td>1.0</td>\n",
              "      <td>0.071946</td>\n",
              "      <td>557.836513</td>\n",
              "    </tr>\n",
              "  </tbody>\n",
              "</table>\n",
              "</div>"
            ],
            "text/plain": [
              "                RMSE       MAE        HR       cHR      ARHR  Coverage  \\\n",
              "Algorithm                                                                \n",
              "ContentKNN  0.937506  0.726342  0.002981  0.002981  0.001703       1.0   \n",
              "Random      1.438459  1.147809  0.008942  0.008942  0.001505       1.0   \n",
              "\n",
              "            Diversity      Novelty  \n",
              "Algorithm                           \n",
              "ContentKNN   0.573919  4559.691505  \n",
              "Random       0.071946   557.836513  "
            ]
          },
          "execution_count": 23,
          "metadata": {},
          "output_type": "execute_result"
        }
      ],
      "source": [
        "results_df = pd.DataFrame(\n",
        "    values, columns=metrics, index=pd.Index(algorithms, name=\"Algorithm\")\n",
        ")\n",
        "results_df"
      ]
    },
    {
      "cell_type": "code",
      "execution_count": null,
      "metadata": {},
      "outputs": [],
      "source": [
        "samples = evaluator.sample_top_n_recs(lens)\n",
        "samples"
      ]
    }
  ],
  "metadata": {
    "kernelspec": {
      "display_name": ".venv",
      "language": "python",
      "name": "python3"
    },
    "language_info": {
      "codemirror_mode": {
        "name": "ipython",
        "version": 3
      },
      "file_extension": ".py",
      "mimetype": "text/x-python",
      "name": "python",
      "nbconvert_exporter": "python",
      "pygments_lexer": "ipython3",
      "version": "3.12.10"
    }
  },
  "nbformat": 4,
  "nbformat_minor": 4
}
