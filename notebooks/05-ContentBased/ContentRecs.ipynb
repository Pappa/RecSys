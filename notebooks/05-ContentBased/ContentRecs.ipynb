{
  "cells": [
    {
      "cell_type": "markdown",
      "metadata": {},
      "source": [
        "# Content-Based Recommendations\n",
        "\n",
        "This notebook demonstrates content-based recommendations using the ContentKNN algorithm. It compares the performance of content-based recommendations against random recommendations using various evaluation metrics."
      ]
    },
    {
      "cell_type": "markdown",
      "metadata": {},
      "source": [
        "## Import Required Libraries"
      ]
    },
    {
      "cell_type": "code",
      "execution_count": 1,
      "metadata": {},
      "outputs": [],
      "source": [
        "from recsys.MovieLens import MovieLens\n",
        "from recsys.algorithms.ContentKNN import ContentKNN\n",
        "from recsys.Evaluator import Evaluator\n",
        "from surprise import NormalPredictor\n",
        "\n",
        "import random\n",
        "import numpy as np"
      ]
    },
    {
      "cell_type": "markdown",
      "metadata": {},
      "source": [
        "## Set Random Seeds for Reproducibility"
      ]
    },
    {
      "cell_type": "code",
      "execution_count": 2,
      "metadata": {},
      "outputs": [],
      "source": [
        "np.random.seed(0)\n",
        "random.seed(0)"
      ]
    },
    {
      "cell_type": "markdown",
      "metadata": {},
      "source": [
        "## Load Data and Initialize Evaluator"
      ]
    },
    {
      "cell_type": "code",
      "execution_count": null,
      "metadata": {},
      "outputs": [],
      "source": [
        "# Load up common data set for the recommender algorithms\n",
        "(ml, evaluation_dataset, rankings) = MovieLens.load()\n",
        "\n",
        "# Construct an Evaluator to, you know, evaluate them\n",
        "evaluator = Evaluator(evaluation_dataset, rankings)"
      ]
    },
    {
      "cell_type": "markdown",
      "metadata": {},
      "source": [
        "## Add Algorithms for Comparison"
      ]
    },
    {
      "cell_type": "code",
      "execution_count": 4,
      "metadata": {},
      "outputs": [],
      "source": [
        "# Add ContentKNN algorithm\n",
        "contentKNN = ContentKNN()\n",
        "evaluator.add_algorithm(contentKNN, \"ContentKNN\")\n",
        "\n",
        "# Add random recommendations as a baseline\n",
        "Random = NormalPredictor()\n",
        "evaluator.add_algorithm(Random, \"Random\")"
      ]
    },
    {
      "cell_type": "markdown",
      "metadata": {},
      "source": [
        "## Evaluate and Compare Algorithms"
      ]
    },
    {
      "cell_type": "code",
      "execution_count": null,
      "metadata": {},
      "outputs": [],
      "source": [
        "# Evaluate algorithms\n",
        "evaluator.evaluate(False)\n",
        "\n",
        "# Show sample recommendations\n",
        "evaluator.sample_top_n_recs(ml)"
      ]
    }
  ],
  "metadata": {
    "kernelspec": {
      "display_name": "RecSys",
      "language": "python",
      "name": "python3"
    },
    "language_info": {
      "codemirror_mode": {
        "name": "ipython",
        "version": 3
      },
      "file_extension": ".py",
      "mimetype": "text/x-python",
      "name": "python",
      "nbconvert_exporter": "python",
      "pygments_lexer": "ipython3",
      "version": "3.12.11"
    }
  },
  "nbformat": 4,
  "nbformat_minor": 4
}
