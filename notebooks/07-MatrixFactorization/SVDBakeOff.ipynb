{
  "cells": [
    {
      "cell_type": "markdown",
      "metadata": {},
      "source": [
        "# SVD Bake Off\n",
        "\n",
        "This notebook compares the performance of SVD and SVD++ algorithms against random recommendations using the MovieLens dataset."
      ]
    },
    {
      "cell_type": "markdown",
      "metadata": {},
      "source": [
        "### Setup and Imports\n",
        "\n",
        "First, let's import the necessary libraries and set up our random seeds for reproducibility."
      ]
    },
    {
      "cell_type": "code",
      "execution_count": 1,
      "metadata": {},
      "outputs": [],
      "source": [
        "from recsys.MovieLens import MovieLens\n",
        "from surprise import SVD, SVDpp\n",
        "from surprise import NormalPredictor\n",
        "from recsys.Evaluator import Evaluator\n",
        "\n",
        "import random\n",
        "import numpy as np\n",
        "import pandas as pd\n",
        "\n",
        "np.random.seed(0)\n",
        "random.seed(0)"
      ]
    },
    {
      "cell_type": "markdown",
      "metadata": {},
      "source": [
        "### Load Data\n",
        "\n",
        "Load the MovieLens dataset and prepare it for evaluation."
      ]
    },
    {
      "cell_type": "code",
      "execution_count": null,
      "metadata": {},
      "outputs": [],
      "source": [
        "lens, ratings_data, rankings = MovieLens.load()"
      ]
    },
    {
      "cell_type": "markdown",
      "metadata": {},
      "source": [
        "### Initialize Evaluator\n",
        "\n",
        "Create an evaluator instance to compare different algorithms."
      ]
    },
    {
      "cell_type": "code",
      "execution_count": null,
      "metadata": {},
      "outputs": [],
      "source": [
        "evaluator = Evaluator(ratings_data, rankings)"
      ]
    },
    {
      "cell_type": "markdown",
      "metadata": {},
      "source": [
        "### Add Algorithms\n",
        "\n",
        "Add the algorithms we want to compare: SVD, SVD++, and Random recommendations."
      ]
    },
    {
      "cell_type": "code",
      "execution_count": 4,
      "metadata": {},
      "outputs": [],
      "source": [
        "# SVD\n",
        "svd = SVD(verbose=False)\n",
        "evaluator.add_algorithm(svd, \"SVD\")\n",
        "\n",
        "# SVD++\n",
        "svd_pp = SVDpp()\n",
        "evaluator.add_algorithm(svd_pp, \"SVD++\")\n",
        "\n",
        "random_rec = NormalPredictor()\n",
        "evaluator.add_algorithm(random_rec, \"Random\")"
      ]
    },
    {
      "cell_type": "markdown",
      "metadata": {},
      "source": [
        "### Evaluate Algorithms\n",
        "\n",
        "Run the evaluation and compare the performance of all algorithms."
      ]
    },
    {
      "cell_type": "code",
      "execution_count": null,
      "metadata": {},
      "outputs": [],
      "source": [
        "algorithms, metrics, values = evaluator.evaluate(top_n_metrics=True)"
      ]
    },
    {
      "cell_type": "markdown",
      "metadata": {},
      "source": [
        "### Evaluation results"
      ]
    },
    {
      "cell_type": "code",
      "execution_count": null,
      "metadata": {},
      "outputs": [],
      "source": [
        "results_df = pd.DataFrame(\n",
        "    values, columns=metrics, index=pd.Index(algorithms, name=\"Algorithm\")\n",
        ")\n",
        "results_df"
      ]
    },
    {
      "cell_type": "markdown",
      "metadata": {},
      "source": [
        "### Sample Recommendations\n",
        "\n",
        "Generate and display some sample recommendations using the evaluated algorithms."
      ]
    },
    {
      "cell_type": "code",
      "execution_count": null,
      "metadata": {},
      "outputs": [],
      "source": [
        "samples = evaluator.sample_top_n_recs(uid=85)\n",
        "samples"
      ]
    }
  ],
  "metadata": {
    "kernelspec": {
      "display_name": "RecSys",
      "language": "python",
      "name": "python3"
    },
    "language_info": {
      "codemirror_mode": {
        "name": "ipython",
        "version": 3
      },
      "file_extension": ".py",
      "mimetype": "text/x-python",
      "name": "python",
      "nbconvert_exporter": "python",
      "pygments_lexer": "ipython3",
      "version": "3.12.11"
    }
  },
  "nbformat": 4,
  "nbformat_minor": 4
}
