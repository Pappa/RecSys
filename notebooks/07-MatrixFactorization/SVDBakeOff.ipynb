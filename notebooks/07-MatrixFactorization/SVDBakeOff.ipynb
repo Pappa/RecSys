{
  "cells": [
    {
      "cell_type": "markdown",
      "metadata": {},
      "source": [
        "# SVD Bake Off\n",
        "\n",
        "This notebook compares the performance of SVD and SVD++ algorithms against random recommendations using the MovieLens dataset."
      ]
    },
    {
      "cell_type": "markdown",
      "metadata": {},
      "source": [
        "### Setup and Imports\n",
        "\n",
        "First, let's import the necessary libraries and set up our random seeds for reproducibility."
      ]
    },
    {
      "cell_type": "code",
      "execution_count": 1,
      "metadata": {},
      "outputs": [],
      "source": [
        "from recsys.MovieLens import MovieLens\n",
        "from surprise import SVD, SVDpp\n",
        "from surprise import NormalPredictor\n",
        "from recsys.Evaluator import Evaluator\n",
        "\n",
        "import random\n",
        "import numpy as np\n",
        "\n",
        "np.random.seed(0)\n",
        "random.seed(0)"
      ]
    },
    {
      "cell_type": "markdown",
      "metadata": {},
      "source": [
        "### Load Data\n",
        "\n",
        "Load the MovieLens dataset and prepare it for evaluation."
      ]
    },
    {
      "cell_type": "code",
      "execution_count": 2,
      "metadata": {},
      "outputs": [],
      "source": [
        "lens, ratings_data, rankings = MovieLens.load()"
      ]
    },
    {
      "cell_type": "markdown",
      "metadata": {},
      "source": [
        "### Initialize Evaluator\n",
        "\n",
        "Create an evaluator instance to compare different algorithms."
      ]
    },
    {
      "cell_type": "code",
      "execution_count": 3,
      "metadata": {},
      "outputs": [],
      "source": [
        "evaluator = Evaluator(ratings_data, rankings)"
      ]
    },
    {
      "cell_type": "markdown",
      "metadata": {},
      "source": [
        "### Add Algorithms\n",
        "\n",
        "Add the algorithms we want to compare: SVD, SVD++, and Random recommendations."
      ]
    },
    {
      "cell_type": "code",
      "execution_count": 4,
      "metadata": {},
      "outputs": [],
      "source": [
        "# SVD\n",
        "svd = SVD(verbose=False)\n",
        "evaluator.add_algorithm(svd, \"SVD\")\n",
        "\n",
        "# SVD++\n",
        "svd_pp = SVDpp(verbose=False)\n",
        "evaluator.add_algorithm(svd_pp, \"SVD++\")\n",
        "\n",
        "random_rec = NormalPredictor()\n",
        "evaluator.add_algorithm(random_rec, \"Random\")"
      ]
    },
    {
      "cell_type": "markdown",
      "metadata": {},
      "source": [
        "### Evaluation results"
      ]
    },
    {
      "cell_type": "code",
      "execution_count": 5,
      "metadata": {},
      "outputs": [
        {
          "data": {
            "text/html": [
              "<div>\n",
              "<style scoped>\n",
              "    .dataframe tbody tr th:only-of-type {\n",
              "        vertical-align: middle;\n",
              "    }\n",
              "\n",
              "    .dataframe tbody tr th {\n",
              "        vertical-align: top;\n",
              "    }\n",
              "\n",
              "    .dataframe thead th {\n",
              "        text-align: right;\n",
              "    }\n",
              "</style>\n",
              "<table border=\"1\" class=\"dataframe\">\n",
              "  <thead>\n",
              "    <tr style=\"text-align: right;\">\n",
              "      <th></th>\n",
              "      <th>RMSE</th>\n",
              "      <th>MAE</th>\n",
              "      <th>HR</th>\n",
              "      <th>cHR</th>\n",
              "      <th>ARHR</th>\n",
              "      <th>Coverage</th>\n",
              "      <th>Diversity</th>\n",
              "      <th>Novelty</th>\n",
              "    </tr>\n",
              "    <tr>\n",
              "      <th>Algorithm</th>\n",
              "      <th></th>\n",
              "      <th></th>\n",
              "      <th></th>\n",
              "      <th></th>\n",
              "      <th></th>\n",
              "      <th></th>\n",
              "      <th></th>\n",
              "      <th></th>\n",
              "    </tr>\n",
              "  </thead>\n",
              "  <tbody>\n",
              "    <tr>\n",
              "      <th>SVD</th>\n",
              "      <td>0.903907</td>\n",
              "      <td>0.698379</td>\n",
              "      <td>0.028316</td>\n",
              "      <td>0.028316</td>\n",
              "      <td>0.011923</td>\n",
              "      <td>1.0</td>\n",
              "      <td>0.044143</td>\n",
              "      <td>504.298510</td>\n",
              "    </tr>\n",
              "    <tr>\n",
              "      <th>SVD++</th>\n",
              "      <td>0.892790</td>\n",
              "      <td>0.686470</td>\n",
              "      <td>0.035768</td>\n",
              "      <td>0.029806</td>\n",
              "      <td>0.016049</td>\n",
              "      <td>1.0</td>\n",
              "      <td>0.094488</td>\n",
              "      <td>670.316841</td>\n",
              "    </tr>\n",
              "    <tr>\n",
              "      <th>Random</th>\n",
              "      <td>1.442829</td>\n",
              "      <td>1.153235</td>\n",
              "      <td>0.019374</td>\n",
              "      <td>0.008942</td>\n",
              "      <td>0.004117</td>\n",
              "      <td>1.0</td>\n",
              "      <td>0.067563</td>\n",
              "      <td>540.168256</td>\n",
              "    </tr>\n",
              "  </tbody>\n",
              "</table>\n",
              "</div>"
            ],
            "text/plain": [
              "               RMSE       MAE        HR       cHR      ARHR  Coverage  \\\n",
              "Algorithm                                                               \n",
              "SVD        0.903907  0.698379  0.028316  0.028316  0.011923       1.0   \n",
              "SVD++      0.892790  0.686470  0.035768  0.029806  0.016049       1.0   \n",
              "Random     1.442829  1.153235  0.019374  0.008942  0.004117       1.0   \n",
              "\n",
              "           Diversity     Novelty  \n",
              "Algorithm                         \n",
              "SVD         0.044143  504.298510  \n",
              "SVD++       0.094488  670.316841  \n",
              "Random      0.067563  540.168256  "
            ]
          },
          "execution_count": 5,
          "metadata": {},
          "output_type": "execute_result"
        }
      ],
      "source": [
        "results = evaluator.evaluate(top_n_metrics=True)\n",
        "\n",
        "results.to_df()"
      ]
    },
    {
      "cell_type": "markdown",
      "metadata": {},
      "source": [
        "### Sample Recommendations\n",
        "\n",
        "Generate and display some sample recommendations using the evaluated algorithms."
      ]
    },
    {
      "cell_type": "code",
      "execution_count": 6,
      "metadata": {},
      "outputs": [
        {
          "name": "stdout",
          "output_type": "stream",
          "text": [
            "SVD\n",
            "  Raiders of the Lost Ark (Indiana Jones and the Raiders of the Lost Ark) (1981)\n",
            "  Star Wars: Episode V - The Empire Strikes Back (1980)\n",
            "  Gladiator (1992)\n",
            "  All About Eve (1950)\n",
            "  Matrix, The (1999)\n",
            "  Kiki's Delivery Service (Majo no takkyÃ»bin) (1989)\n",
            "  Ferris Bueller's Day Off (1986)\n",
            "  Lord of the Rings: The Two Towers, The (2002)\n",
            "  Dog Day Afternoon (1975)\n",
            "  Dark Knight, The (2008)\n",
            "SVD++\n",
            "  Rain Man (1988)\n",
            "  In the Name of the Father (1993)\n",
            "  Lock, Stock & Two Smoking Barrels (1998)\n",
            "  Modern Times (1936)\n",
            "  Star Wars: Episode V - The Empire Strikes Back (1980)\n",
            "  Indiana Jones and the Last Crusade (1989)\n",
            "  Godfather: Part II, The (1974)\n",
            "  Drunken Master (Jui kuen) (1978)\n",
            "  Harry Potter and the Half-Blood Prince (2009)\n",
            "  It Happened One Night (1934)\n",
            "Random\n",
            "  Dumbo (1941)\n",
            "  French Connection, The (1971)\n",
            "  Fly, The (1986)\n",
            "  Usual Suspects, The (1995)\n",
            "  Clerks (1994)\n",
            "  In the Line of Fire (1993)\n",
            "  Big Daddy (1999)\n",
            "  Sixth Sense, The (1999)\n",
            "  Requiem for a Dream (2000)\n",
            "  Letters from Iwo Jima (2006)\n"
          ]
        }
      ],
      "source": [
        "samples = evaluator.sample_top_n_recs(uid=85)\n",
        "\n",
        "for algorithm, recs in samples.items():\n",
        "    print(f\"{algorithm}\")\n",
        "    movie_names = lens.get_movie_names(recs)\n",
        "    for movie_name in movie_names:\n",
        "        print(f\"  {movie_name}\")"
      ]
    }
  ],
  "metadata": {
    "kernelspec": {
      "display_name": ".venv",
      "language": "python",
      "name": "python3"
    },
    "language_info": {
      "codemirror_mode": {
        "name": "ipython",
        "version": 3
      },
      "file_extension": ".py",
      "mimetype": "text/x-python",
      "name": "python",
      "nbconvert_exporter": "python",
      "pygments_lexer": "ipython3",
      "version": "3.12.10"
    }
  },
  "nbformat": 4,
  "nbformat_minor": 4
}
